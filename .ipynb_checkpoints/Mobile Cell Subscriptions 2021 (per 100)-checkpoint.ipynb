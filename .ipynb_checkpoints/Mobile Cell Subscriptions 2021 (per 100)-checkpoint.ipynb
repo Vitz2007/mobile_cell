{
 "cells": [
  {
   "cell_type": "code",
   "execution_count": 6,
   "id": "better-trust",
   "metadata": {},
   "outputs": [
    {
     "data": {
      "text/plain": [
       "'/Users/kioshi/Desktop/Me/Python/Projects/Mobile Cellular Subsciptions 2019 (per 100 people)'"
      ]
     },
     "execution_count": 6,
     "metadata": {},
     "output_type": "execute_result"
    }
   ],
   "source": [
    "import pandas as pd\n",
    "import numpy as np\n",
    "%matplotlib inline\n",
    "import os\n",
    "os.getcwd()"
   ]
  },
  {
   "cell_type": "code",
   "execution_count": 11,
   "id": "tropical-volunteer",
   "metadata": {},
   "outputs": [
    {
     "name": "stdout",
     "output_type": "stream",
     "text": [
      "           Data Source,\"World Development Indicators\",\n",
      "0                      Last Updated Date,\"2021-02-17\",\n",
      "1    Country Name,\"Country Code\",\"Indicator Name\",\"...\n",
      "2    Aruba,\"ABW\",\"Mobile cellular subscriptions (pe...\n",
      "3    Afghanistan,\"AFG\",\"Mobile cellular subscriptio...\n",
      "4    Angola,\"AGO\",\"Mobile cellular subscriptions (p...\n",
      "..                                                 ...\n",
      "261  Kosovo,\"XKX\",\"Mobile cellular subscriptions (p...\n",
      "262  Yemen, Rep.,\"YEM\",\"Mobile cellular subscriptio...\n",
      "263  South Africa,\"ZAF\",\"Mobile cellular subscripti...\n",
      "264  Zambia,\"ZMB\",\"Mobile cellular subscriptions (p...\n",
      "265  Zimbabwe,\"ZWE\",\"Mobile cellular subscriptions ...\n",
      "\n",
      "[266 rows x 1 columns]\n"
     ]
    }
   ],
   "source": [
    "#mob_cell_subs = pd.read_csv('mobile_cell_subs.csv', skiprows=2)\n",
    "mob_cell_subs = pd.read_csv('mobile_cell_subs.csv', sep='\\t')\n",
    "print(mob_cell_subs)"
   ]
  },
  {
   "cell_type": "code",
   "execution_count": null,
   "id": "bottom-chocolate",
   "metadata": {},
   "outputs": [],
   "source": []
  }
 ],
 "metadata": {
  "kernelspec": {
   "display_name": "Python 3",
   "language": "python",
   "name": "python3"
  },
  "language_info": {
   "codemirror_mode": {
    "name": "ipython",
    "version": 3
   },
   "file_extension": ".py",
   "mimetype": "text/x-python",
   "name": "python",
   "nbconvert_exporter": "python",
   "pygments_lexer": "ipython3",
   "version": "3.8.8"
  }
 },
 "nbformat": 4,
 "nbformat_minor": 5
}
