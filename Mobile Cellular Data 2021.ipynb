{
 "cells": [
  {
   "cell_type": "code",
   "execution_count": 36,
   "id": "external-accessory",
   "metadata": {},
   "outputs": [
    {
     "data": {
      "text/plain": [
       "'/Users/kioshi/Desktop/Me/Python/Projects/Mobile Cellular Subsciptions 2021'"
      ]
     },
     "execution_count": 36,
     "metadata": {},
     "output_type": "execute_result"
    }
   ],
   "source": [
    "#Import modules\n",
    "import pandas as pd\n",
    "import numpy as np\n",
    "import matplotlib.pyplot as plt \n",
    "import seaborn as sns\n",
    "from functools import reduce\n",
    "from sklearn.linear_model import LinearRegression\n",
    "from sklearn.dummy import DummyRegressor\n",
    "from sklearn.model_selection import train_test_split, cross_val_score, LeaveOneOut\n",
    "from sklearn.preprocessing import LabelEncoder\n",
    "from sklearn.metrics import mean_absolute_error\n",
    "from numpy import mean\n",
    "from numpy import absolute\n",
    "from numpy import sqrt\n",
    "%matplotlib inline\n",
    "import os\n",
    "os.getcwd()"
   ]
  },
  {
   "cell_type": "code",
   "execution_count": 37,
   "id": "later-framing",
   "metadata": {
    "scrolled": true
   },
   "outputs": [
    {
     "name": "stdout",
     "output_type": "stream",
     "text": [
      "     Country Name Country Code                 Indicator Name Indicator Code  \\\n",
      "0           Aruba          ABW  Mobile cellular subscriptions    IT.CEL.SETS   \n",
      "1     Afghanistan          AFG  Mobile cellular subscriptions    IT.CEL.SETS   \n",
      "2          Angola          AGO  Mobile cellular subscriptions    IT.CEL.SETS   \n",
      "3         Albania          ALB  Mobile cellular subscriptions    IT.CEL.SETS   \n",
      "4         Andorra          AND  Mobile cellular subscriptions    IT.CEL.SETS   \n",
      "..            ...          ...                            ...            ...   \n",
      "259        Kosovo          XKX  Mobile cellular subscriptions    IT.CEL.SETS   \n",
      "260   Yemen, Rep.          YEM  Mobile cellular subscriptions    IT.CEL.SETS   \n",
      "261  South Africa          ZAF  Mobile cellular subscriptions    IT.CEL.SETS   \n",
      "262        Zambia          ZMB  Mobile cellular subscriptions    IT.CEL.SETS   \n",
      "263      Zimbabwe          ZWE  Mobile cellular subscriptions    IT.CEL.SETS   \n",
      "\n",
      "     1960  1961  1962  1963  1964  1965  ...        2011        2012  \\\n",
      "0     0.0   NaN   NaN   NaN   NaN   0.0  ...    131800.0    135000.0   \n",
      "1     0.0   NaN   NaN   NaN   NaN   0.0  ...  13797900.0  15340100.0   \n",
      "2     0.0   NaN   NaN   NaN   NaN   0.0  ...  12073200.0  12785100.0   \n",
      "3     0.0   NaN   NaN   NaN   NaN   0.0  ...   3100000.0   3500000.0   \n",
      "4     0.0   NaN   NaN   NaN   NaN   0.0  ...     65044.0     63865.0   \n",
      "..    ...   ...   ...   ...   ...   ...  ...         ...         ...   \n",
      "259   NaN   NaN   NaN   NaN   NaN   NaN  ...    562000.0    562000.0   \n",
      "260   0.0   NaN   NaN   NaN   NaN   0.0  ...  11668000.0  13900000.0   \n",
      "261   0.0   NaN   NaN   NaN   NaN   0.0  ...  64000000.0  68394000.0   \n",
      "262   0.0   NaN   NaN   NaN   NaN   0.0  ...   8164550.0  10524700.0   \n",
      "263   0.0   NaN   NaN   NaN   NaN   0.0  ...   9200000.0  12613900.0   \n",
      "\n",
      "           2013        2014        2015        2016        2017        2018  \\\n",
      "0      138800.0    139700.0    141000.0    141000.0    141000.0    141000.0   \n",
      "1    16807200.0  18407200.0  19709000.0  21603000.0  23929700.0  21976400.0   \n",
      "2    13285200.0  14052600.0  13884500.0  13001100.0  13324000.0  13288400.0   \n",
      "3     3685980.0   3359650.0   3400960.0   3369760.0   3625700.0   2714880.0   \n",
      "4       63931.0     66241.0     71336.0     76132.0     80337.0     82614.0   \n",
      "..          ...         ...         ...         ...         ...         ...   \n",
      "259    562000.0    562000.0    562000.0         NaN         NaN         NaN   \n",
      "260  16844700.0  17100000.0  15022000.0  16433100.0  15357900.0  15357900.0   \n",
      "261  76865300.0  79280700.0  87999500.0  82412900.0  88497600.0  88567000.0   \n",
      "262  10395800.0  10114900.0  11557700.0  12017000.0  13438500.0  15470300.0   \n",
      "263  13633200.0  11798700.0  12757400.0  12878900.0  14092100.0  12909000.0   \n",
      "\n",
      "           2019  2020  \n",
      "0      141000.0   NaN  \n",
      "1    22580100.0   NaN  \n",
      "2    14830200.0   NaN  \n",
      "3     2630080.0   NaN  \n",
      "4       87909.0   NaN  \n",
      "..          ...   ...  \n",
      "259    562000.0   NaN  \n",
      "260  15357900.0   NaN  \n",
      "261  96972500.0   NaN  \n",
      "262  17220600.0   NaN  \n",
      "263  13195900.0   NaN  \n",
      "\n",
      "[264 rows x 65 columns]\n"
     ]
    }
   ],
   "source": [
    "#Load csv file into pandas\n",
    "mobile_cell_subs = pd.read_csv('mobile cellular data.csv')\n",
    "print(mobile_cell_subs)"
   ]
  },
  {
   "cell_type": "code",
   "execution_count": 38,
   "id": "ethical-candidate",
   "metadata": {},
   "outputs": [],
   "source": [
    "#Clean data by dropping unnecessary columns: 'Country Code', 'Indicator Name', 'Indicator Code'\n",
    "mobile_cell_subs.drop(['Country Code', 'Indicator Name', 'Indicator Code'],axis = 1,  inplace = True)"
   ]
  },
  {
   "cell_type": "code",
   "execution_count": 39,
   "id": "alike-stephen",
   "metadata": {},
   "outputs": [
    {
     "name": "stdout",
     "output_type": "stream",
     "text": [
      "Country Name    False\n",
      "1960             True\n",
      "1961             True\n",
      "1962             True\n",
      "1963             True\n",
      "1964             True\n",
      "1965             True\n",
      "1966             True\n",
      "1967             True\n",
      "1968             True\n",
      "1969             True\n",
      "1970             True\n",
      "1971             True\n",
      "1972             True\n",
      "1973             True\n",
      "1974             True\n",
      "1975             True\n",
      "1976             True\n",
      "1977             True\n",
      "1978             True\n",
      "1979             True\n",
      "1980             True\n",
      "1981             True\n",
      "1982             True\n",
      "1983             True\n",
      "1984             True\n",
      "1985             True\n",
      "1986             True\n",
      "1987             True\n",
      "1988             True\n",
      "1989             True\n",
      "1990             True\n",
      "1991             True\n",
      "1992             True\n",
      "1993             True\n",
      "1994             True\n",
      "1995             True\n",
      "1996             True\n",
      "1997             True\n",
      "1998             True\n",
      "1999             True\n",
      "2000             True\n",
      "2001             True\n",
      "2002             True\n",
      "2003             True\n",
      "2004             True\n",
      "2005             True\n",
      "2006             True\n",
      "2007             True\n",
      "2008             True\n",
      "2009             True\n",
      "2010             True\n",
      "2011             True\n",
      "2012             True\n",
      "2013             True\n",
      "2014             True\n",
      "2015             True\n",
      "2016             True\n",
      "2017             True\n",
      "2018             True\n",
      "2019             True\n",
      "2020             True\n"
     ]
    }
   ],
   "source": [
    "#Find all year columns with NaN values\n",
    "mob_cell_subs_na = mobile_cell_subs.isna().any()\n",
    "print(mob_cell_subs_na.to_string())"
   ]
  },
  {
   "cell_type": "code",
   "execution_count": 40,
   "id": "aboriginal-wells",
   "metadata": {
    "tags": []
   },
   "outputs": [
    {
     "data": {
      "text/html": [
       "<div>\n",
       "<style scoped>\n",
       "    .dataframe tbody tr th:only-of-type {\n",
       "        vertical-align: middle;\n",
       "    }\n",
       "\n",
       "    .dataframe tbody tr th {\n",
       "        vertical-align: top;\n",
       "    }\n",
       "\n",
       "    .dataframe thead th {\n",
       "        text-align: right;\n",
       "    }\n",
       "</style>\n",
       "<table border=\"1\" class=\"dataframe\">\n",
       "  <thead>\n",
       "    <tr style=\"text-align: right;\">\n",
       "      <th></th>\n",
       "      <th>Country Name</th>\n",
       "      <th>1980</th>\n",
       "      <th>1981</th>\n",
       "      <th>1982</th>\n",
       "      <th>1983</th>\n",
       "      <th>1984</th>\n",
       "      <th>1985</th>\n",
       "      <th>1986</th>\n",
       "      <th>1987</th>\n",
       "      <th>1988</th>\n",
       "      <th>...</th>\n",
       "      <th>2010</th>\n",
       "      <th>2011</th>\n",
       "      <th>2012</th>\n",
       "      <th>2013</th>\n",
       "      <th>2014</th>\n",
       "      <th>2015</th>\n",
       "      <th>2016</th>\n",
       "      <th>2017</th>\n",
       "      <th>2018</th>\n",
       "      <th>2019</th>\n",
       "    </tr>\n",
       "  </thead>\n",
       "  <tbody>\n",
       "    <tr>\n",
       "      <th>0</th>\n",
       "      <td>Aruba</td>\n",
       "      <td>0.0</td>\n",
       "      <td>0.0</td>\n",
       "      <td>0.0</td>\n",
       "      <td>0.0</td>\n",
       "      <td>0.0</td>\n",
       "      <td>0.0</td>\n",
       "      <td>0.0</td>\n",
       "      <td>0.0</td>\n",
       "      <td>0.0</td>\n",
       "      <td>...</td>\n",
       "      <td>131800.0</td>\n",
       "      <td>131800.0</td>\n",
       "      <td>135000.0</td>\n",
       "      <td>138800.0</td>\n",
       "      <td>139700.0</td>\n",
       "      <td>141000.0</td>\n",
       "      <td>141000.0</td>\n",
       "      <td>141000.0</td>\n",
       "      <td>141000.0</td>\n",
       "      <td>141000.0</td>\n",
       "    </tr>\n",
       "    <tr>\n",
       "      <th>1</th>\n",
       "      <td>Afghanistan</td>\n",
       "      <td>0.0</td>\n",
       "      <td>0.0</td>\n",
       "      <td>0.0</td>\n",
       "      <td>0.0</td>\n",
       "      <td>0.0</td>\n",
       "      <td>0.0</td>\n",
       "      <td>0.0</td>\n",
       "      <td>0.0</td>\n",
       "      <td>0.0</td>\n",
       "      <td>...</td>\n",
       "      <td>10215800.0</td>\n",
       "      <td>13797900.0</td>\n",
       "      <td>15340100.0</td>\n",
       "      <td>16807200.0</td>\n",
       "      <td>18407200.0</td>\n",
       "      <td>19709000.0</td>\n",
       "      <td>21603000.0</td>\n",
       "      <td>23929700.0</td>\n",
       "      <td>21976400.0</td>\n",
       "      <td>22580100.0</td>\n",
       "    </tr>\n",
       "    <tr>\n",
       "      <th>2</th>\n",
       "      <td>Angola</td>\n",
       "      <td>0.0</td>\n",
       "      <td>0.0</td>\n",
       "      <td>0.0</td>\n",
       "      <td>0.0</td>\n",
       "      <td>0.0</td>\n",
       "      <td>0.0</td>\n",
       "      <td>0.0</td>\n",
       "      <td>0.0</td>\n",
       "      <td>0.0</td>\n",
       "      <td>...</td>\n",
       "      <td>9403370.0</td>\n",
       "      <td>12073200.0</td>\n",
       "      <td>12785100.0</td>\n",
       "      <td>13285200.0</td>\n",
       "      <td>14052600.0</td>\n",
       "      <td>13884500.0</td>\n",
       "      <td>13001100.0</td>\n",
       "      <td>13324000.0</td>\n",
       "      <td>13288400.0</td>\n",
       "      <td>14830200.0</td>\n",
       "    </tr>\n",
       "    <tr>\n",
       "      <th>3</th>\n",
       "      <td>Albania</td>\n",
       "      <td>0.0</td>\n",
       "      <td>0.0</td>\n",
       "      <td>0.0</td>\n",
       "      <td>0.0</td>\n",
       "      <td>0.0</td>\n",
       "      <td>0.0</td>\n",
       "      <td>0.0</td>\n",
       "      <td>0.0</td>\n",
       "      <td>0.0</td>\n",
       "      <td>...</td>\n",
       "      <td>2692370.0</td>\n",
       "      <td>3100000.0</td>\n",
       "      <td>3500000.0</td>\n",
       "      <td>3685980.0</td>\n",
       "      <td>3359650.0</td>\n",
       "      <td>3400960.0</td>\n",
       "      <td>3369760.0</td>\n",
       "      <td>3625700.0</td>\n",
       "      <td>2714880.0</td>\n",
       "      <td>2630080.0</td>\n",
       "    </tr>\n",
       "    <tr>\n",
       "      <th>4</th>\n",
       "      <td>Andorra</td>\n",
       "      <td>0.0</td>\n",
       "      <td>0.0</td>\n",
       "      <td>0.0</td>\n",
       "      <td>0.0</td>\n",
       "      <td>0.0</td>\n",
       "      <td>0.0</td>\n",
       "      <td>0.0</td>\n",
       "      <td>0.0</td>\n",
       "      <td>0.0</td>\n",
       "      <td>...</td>\n",
       "      <td>65495.0</td>\n",
       "      <td>65044.0</td>\n",
       "      <td>63865.0</td>\n",
       "      <td>63931.0</td>\n",
       "      <td>66241.0</td>\n",
       "      <td>71336.0</td>\n",
       "      <td>76132.0</td>\n",
       "      <td>80337.0</td>\n",
       "      <td>82614.0</td>\n",
       "      <td>87909.0</td>\n",
       "    </tr>\n",
       "    <tr>\n",
       "      <th>...</th>\n",
       "      <td>...</td>\n",
       "      <td>...</td>\n",
       "      <td>...</td>\n",
       "      <td>...</td>\n",
       "      <td>...</td>\n",
       "      <td>...</td>\n",
       "      <td>...</td>\n",
       "      <td>...</td>\n",
       "      <td>...</td>\n",
       "      <td>...</td>\n",
       "      <td>...</td>\n",
       "      <td>...</td>\n",
       "      <td>...</td>\n",
       "      <td>...</td>\n",
       "      <td>...</td>\n",
       "      <td>...</td>\n",
       "      <td>...</td>\n",
       "      <td>...</td>\n",
       "      <td>...</td>\n",
       "      <td>...</td>\n",
       "      <td>...</td>\n",
       "    </tr>\n",
       "    <tr>\n",
       "      <th>259</th>\n",
       "      <td>Kosovo</td>\n",
       "      <td>NaN</td>\n",
       "      <td>NaN</td>\n",
       "      <td>NaN</td>\n",
       "      <td>NaN</td>\n",
       "      <td>NaN</td>\n",
       "      <td>NaN</td>\n",
       "      <td>NaN</td>\n",
       "      <td>NaN</td>\n",
       "      <td>NaN</td>\n",
       "      <td>...</td>\n",
       "      <td>562000.0</td>\n",
       "      <td>562000.0</td>\n",
       "      <td>562000.0</td>\n",
       "      <td>562000.0</td>\n",
       "      <td>562000.0</td>\n",
       "      <td>562000.0</td>\n",
       "      <td>NaN</td>\n",
       "      <td>NaN</td>\n",
       "      <td>NaN</td>\n",
       "      <td>562000.0</td>\n",
       "    </tr>\n",
       "    <tr>\n",
       "      <th>260</th>\n",
       "      <td>Yemen, Rep.</td>\n",
       "      <td>0.0</td>\n",
       "      <td>0.0</td>\n",
       "      <td>0.0</td>\n",
       "      <td>0.0</td>\n",
       "      <td>0.0</td>\n",
       "      <td>0.0</td>\n",
       "      <td>0.0</td>\n",
       "      <td>0.0</td>\n",
       "      <td>0.0</td>\n",
       "      <td>...</td>\n",
       "      <td>11085000.0</td>\n",
       "      <td>11668000.0</td>\n",
       "      <td>13900000.0</td>\n",
       "      <td>16844700.0</td>\n",
       "      <td>17100000.0</td>\n",
       "      <td>15022000.0</td>\n",
       "      <td>16433100.0</td>\n",
       "      <td>15357900.0</td>\n",
       "      <td>15357900.0</td>\n",
       "      <td>15357900.0</td>\n",
       "    </tr>\n",
       "    <tr>\n",
       "      <th>261</th>\n",
       "      <td>South Africa</td>\n",
       "      <td>0.0</td>\n",
       "      <td>0.0</td>\n",
       "      <td>0.0</td>\n",
       "      <td>0.0</td>\n",
       "      <td>0.0</td>\n",
       "      <td>0.0</td>\n",
       "      <td>0.0</td>\n",
       "      <td>0.0</td>\n",
       "      <td>0.0</td>\n",
       "      <td>...</td>\n",
       "      <td>50372000.0</td>\n",
       "      <td>64000000.0</td>\n",
       "      <td>68394000.0</td>\n",
       "      <td>76865300.0</td>\n",
       "      <td>79280700.0</td>\n",
       "      <td>87999500.0</td>\n",
       "      <td>82412900.0</td>\n",
       "      <td>88497600.0</td>\n",
       "      <td>88567000.0</td>\n",
       "      <td>96972500.0</td>\n",
       "    </tr>\n",
       "    <tr>\n",
       "      <th>262</th>\n",
       "      <td>Zambia</td>\n",
       "      <td>0.0</td>\n",
       "      <td>0.0</td>\n",
       "      <td>0.0</td>\n",
       "      <td>0.0</td>\n",
       "      <td>0.0</td>\n",
       "      <td>0.0</td>\n",
       "      <td>0.0</td>\n",
       "      <td>0.0</td>\n",
       "      <td>0.0</td>\n",
       "      <td>...</td>\n",
       "      <td>5446990.0</td>\n",
       "      <td>8164550.0</td>\n",
       "      <td>10524700.0</td>\n",
       "      <td>10395800.0</td>\n",
       "      <td>10114900.0</td>\n",
       "      <td>11557700.0</td>\n",
       "      <td>12017000.0</td>\n",
       "      <td>13438500.0</td>\n",
       "      <td>15470300.0</td>\n",
       "      <td>17220600.0</td>\n",
       "    </tr>\n",
       "    <tr>\n",
       "      <th>263</th>\n",
       "      <td>Zimbabwe</td>\n",
       "      <td>0.0</td>\n",
       "      <td>0.0</td>\n",
       "      <td>0.0</td>\n",
       "      <td>0.0</td>\n",
       "      <td>0.0</td>\n",
       "      <td>0.0</td>\n",
       "      <td>0.0</td>\n",
       "      <td>0.0</td>\n",
       "      <td>0.0</td>\n",
       "      <td>...</td>\n",
       "      <td>7700000.0</td>\n",
       "      <td>9200000.0</td>\n",
       "      <td>12613900.0</td>\n",
       "      <td>13633200.0</td>\n",
       "      <td>11798700.0</td>\n",
       "      <td>12757400.0</td>\n",
       "      <td>12878900.0</td>\n",
       "      <td>14092100.0</td>\n",
       "      <td>12909000.0</td>\n",
       "      <td>13195900.0</td>\n",
       "    </tr>\n",
       "  </tbody>\n",
       "</table>\n",
       "<p>264 rows × 41 columns</p>\n",
       "</div>"
      ],
      "text/plain": [
       "     Country Name  1980  1981  1982  1983  1984  1985  1986  1987  1988  ...  \\\n",
       "0           Aruba   0.0   0.0   0.0   0.0   0.0   0.0   0.0   0.0   0.0  ...   \n",
       "1     Afghanistan   0.0   0.0   0.0   0.0   0.0   0.0   0.0   0.0   0.0  ...   \n",
       "2          Angola   0.0   0.0   0.0   0.0   0.0   0.0   0.0   0.0   0.0  ...   \n",
       "3         Albania   0.0   0.0   0.0   0.0   0.0   0.0   0.0   0.0   0.0  ...   \n",
       "4         Andorra   0.0   0.0   0.0   0.0   0.0   0.0   0.0   0.0   0.0  ...   \n",
       "..            ...   ...   ...   ...   ...   ...   ...   ...   ...   ...  ...   \n",
       "259        Kosovo   NaN   NaN   NaN   NaN   NaN   NaN   NaN   NaN   NaN  ...   \n",
       "260   Yemen, Rep.   0.0   0.0   0.0   0.0   0.0   0.0   0.0   0.0   0.0  ...   \n",
       "261  South Africa   0.0   0.0   0.0   0.0   0.0   0.0   0.0   0.0   0.0  ...   \n",
       "262        Zambia   0.0   0.0   0.0   0.0   0.0   0.0   0.0   0.0   0.0  ...   \n",
       "263      Zimbabwe   0.0   0.0   0.0   0.0   0.0   0.0   0.0   0.0   0.0  ...   \n",
       "\n",
       "           2010        2011        2012        2013        2014        2015  \\\n",
       "0      131800.0    131800.0    135000.0    138800.0    139700.0    141000.0   \n",
       "1    10215800.0  13797900.0  15340100.0  16807200.0  18407200.0  19709000.0   \n",
       "2     9403370.0  12073200.0  12785100.0  13285200.0  14052600.0  13884500.0   \n",
       "3     2692370.0   3100000.0   3500000.0   3685980.0   3359650.0   3400960.0   \n",
       "4       65495.0     65044.0     63865.0     63931.0     66241.0     71336.0   \n",
       "..          ...         ...         ...         ...         ...         ...   \n",
       "259    562000.0    562000.0    562000.0    562000.0    562000.0    562000.0   \n",
       "260  11085000.0  11668000.0  13900000.0  16844700.0  17100000.0  15022000.0   \n",
       "261  50372000.0  64000000.0  68394000.0  76865300.0  79280700.0  87999500.0   \n",
       "262   5446990.0   8164550.0  10524700.0  10395800.0  10114900.0  11557700.0   \n",
       "263   7700000.0   9200000.0  12613900.0  13633200.0  11798700.0  12757400.0   \n",
       "\n",
       "           2016        2017        2018        2019  \n",
       "0      141000.0    141000.0    141000.0    141000.0  \n",
       "1    21603000.0  23929700.0  21976400.0  22580100.0  \n",
       "2    13001100.0  13324000.0  13288400.0  14830200.0  \n",
       "3     3369760.0   3625700.0   2714880.0   2630080.0  \n",
       "4       76132.0     80337.0     82614.0     87909.0  \n",
       "..          ...         ...         ...         ...  \n",
       "259         NaN         NaN         NaN    562000.0  \n",
       "260  16433100.0  15357900.0  15357900.0  15357900.0  \n",
       "261  82412900.0  88497600.0  88567000.0  96972500.0  \n",
       "262  12017000.0  13438500.0  15470300.0  17220600.0  \n",
       "263  12878900.0  14092100.0  12909000.0  13195900.0  \n",
       "\n",
       "[264 rows x 41 columns]"
      ]
     },
     "execution_count": 40,
     "metadata": {},
     "output_type": "execute_result"
    }
   ],
   "source": [
    "#Show columns without continuous '0' & 'NaN' values to see when mobile cell subscriptions started\n",
    "mob_cell_subs_zero = mobile_cell_subs.replace([0, 'NA'], np.nan).apply(lambda x: any(~x.isnull()))\n",
    "mobile_cell_subs.loc[:,mob_cell_subs_zero]"
   ]
  },
  {
   "cell_type": "code",
   "execution_count": 41,
   "id": "characteristic-tyler",
   "metadata": {},
   "outputs": [],
   "source": [
    "#Drop columns with continuous '0' and 'NaN values\n",
    "mobile_cell_subs.drop(mobile_cell_subs.iloc[:, 1:21], axis=1, inplace=True)"
   ]
  },
  {
   "cell_type": "code",
   "execution_count": 42,
   "id": "4c4f430f",
   "metadata": {},
   "outputs": [],
   "source": [
    "#Rename 'Country Name' column to 'Country'\n",
    "mobile_cell_subs = mobile_cell_subs.rename(columns={'Country Name': 'Country'})"
   ]
  },
  {
   "cell_type": "code",
   "execution_count": 43,
   "id": "suspected-instrumentation",
   "metadata": {},
   "outputs": [],
   "source": [
    "#Merge year columns into one year columns and place values into another column\n",
    "mobile_cell_subs_merge = mobile_cell_subs.melt(id_vars=['Country'], var_name='year', value_name='total_subscribers')"
   ]
  },
  {
   "cell_type": "code",
   "execution_count": 44,
   "id": "88aeb14a",
   "metadata": {},
   "outputs": [
    {
     "name": "stdout",
     "output_type": "stream",
     "text": [
      "            Country  year  total_subscribers\n",
      "0             Aruba  1980                0.0\n",
      "1       Afghanistan  1980                0.0\n",
      "2            Angola  1980                0.0\n",
      "3           Albania  1980                0.0\n",
      "4           Andorra  1980                0.0\n",
      "...             ...   ...                ...\n",
      "10555        Kosovo  2019           562000.0\n",
      "10556   Yemen, Rep.  2019         15357900.0\n",
      "10557  South Africa  2019         96972500.0\n",
      "10558        Zambia  2019         17220600.0\n",
      "10559      Zimbabwe  2019         13195900.0\n",
      "\n",
      "[10080 rows x 3 columns]\n"
     ]
    }
   ],
   "source": [
    "#Drop NaNs from 'total_subscriber' column to plot scatter plot\n",
    "mobile_cell_subs_merge = mobile_cell_subs_merge[mobile_cell_subs_merge['total_subscribers'].notnull()]\n",
    "print(mobile_cell_subs_merge)"
   ]
  },
  {
   "cell_type": "code",
   "execution_count": 45,
   "id": "d8ed5ebc",
   "metadata": {},
   "outputs": [
    {
     "name": "stdout",
     "output_type": "stream",
     "text": [
      "            Country  year  total_subscribers\n",
      "3696          Aruba  1994               20.0\n",
      "3697    Afghanistan  1994                0.0\n",
      "3698         Angola  1994             1824.0\n",
      "3699        Albania  1994                0.0\n",
      "3700        Andorra  1994              784.0\n",
      "...             ...   ...                ...\n",
      "10555        Kosovo  2019           562000.0\n",
      "10556   Yemen, Rep.  2019         15357900.0\n",
      "10557  South Africa  2019         96972500.0\n",
      "10558        Zambia  2019         17220600.0\n",
      "10559      Zimbabwe  2019         13195900.0\n",
      "\n",
      "[6603 rows x 3 columns]\n"
     ]
    }
   ],
   "source": [
    "mobile_subs_94 = mobile_cell_subs_merge[mobile_cell_subs_merge['year'].astype(int)>1993]\n",
    "print(mobile_subs_94)"
   ]
  },
  {
   "cell_type": "code",
   "execution_count": 116,
   "id": "8ebff092",
   "metadata": {},
   "outputs": [
    {
     "data": {
      "text/plain": [
       "<AxesSubplot:xlabel='year', ylabel='total_subscribers'>"
      ]
     },
     "execution_count": 116,
     "metadata": {},
     "output_type": "execute_result"
    },
    {
     "data": {
      "image/png": "[encoded data removed]",
      "text/plain": [
       "<Figure size 1872x648 with 1 Axes>"
      ]
     },
     "metadata": {},
     "output_type": "display_data"
    }
   ],
   "source": [
    "#Plot mobile subscribers from year 1994+\n",
    "plt.figure(figsize=(26, 9))\n",
    "sns.set_style('whitegrid')\n",
    "sns.scatterplot(x=mobile_subs_94['year'], y=mobile_subs_94['total_subscribers'])"
   ]
  },
  {
   "cell_type": "code",
   "execution_count": 47,
   "id": "rotary-movement",
   "metadata": {},
   "outputs": [],
   "source": [
    "#Slice Japan from index\n",
    "jpn_mob_cell_subs = mobile_cell_subs_merge.loc[mobile_cell_subs_merge['Country'].isin(['Japan'])]"
   ]
  },
  {
   "cell_type": "code",
   "execution_count": 120,
   "id": "proud-schema",
   "metadata": {},
   "outputs": [
    {
     "data": {
      "image/png": "[encoded data removed]",
      "text/plain": [
       "<Figure size 1584x792 with 1 Axes>"
      ]
     },
     "metadata": {},
     "output_type": "display_data"
    }
   ],
   "source": [
    "#Plot using Seaborn to see any outliers/anomolies\n",
    "plt.figure(figsize=(22, 11))\n",
    "sns.set_style('darkgrid')\n",
    "sns.set(font_scale = 2.1)\n",
    "plt.subplots_adjust(hspace = 1.5)\n",
    "jpn_subs_chart = sns.lineplot(x='year', y='total_subscribers', data=jpn_mob_cell_subs).set_title('Japan Mobile Subscribers (1980-2020)')\n",
    "ax = sns.countplot(x='year', data=jpn_mob_cell_subs)\n",
    "ax.set_xticklabels(ax.get_xticklabels(), rotation=90, ha=\"right\")\n",
    "plt.tight_layout()\n",
    "plt.show()"
   ]
  },
  {
   "cell_type": "code",
   "execution_count": 49,
   "id": "binding-friendly",
   "metadata": {},
   "outputs": [
    {
     "name": "stdout",
     "output_type": "stream",
     "text": [
      "      Country  year  total_subscribers\n",
      "117     Japan  1980                0.0\n",
      "381     Japan  1981            13275.0\n",
      "645     Japan  1982            19804.0\n",
      "909     Japan  1983            27198.0\n",
      "1173    Japan  1984            40392.0\n",
      "1437    Japan  1985            61800.0\n",
      "1701    Japan  1986            95131.0\n",
      "1965    Japan  1987           150773.0\n",
      "2229    Japan  1988           242888.0\n",
      "2493    Japan  1989           489558.0\n",
      "2757    Japan  1990           868078.0\n",
      "3021    Japan  1991          1378110.0\n",
      "3285    Japan  1992          1712550.0\n",
      "3549    Japan  1993          2131370.0\n",
      "3813    Japan  1994          4331370.0\n",
      "4077    Japan  1995         11712100.0\n",
      "4341    Japan  1996         26906500.0\n",
      "4605    Japan  1997         38253900.0\n",
      "4869    Japan  1998         47307600.0\n",
      "5133    Japan  1999         56845600.0\n",
      "5397    Japan  2000         66784400.0\n",
      "5661    Japan  2001         74819200.0\n",
      "5925    Japan  2002         81118300.0\n",
      "6189    Japan  2003         86655000.0\n",
      "6453    Japan  2004         91474000.0\n",
      "6717    Japan  2005         96484000.0\n",
      "6981    Japan  2006         99826000.0\n",
      "7245    Japan  2007        107339000.0\n",
      "7509    Japan  2008        110395000.0\n",
      "7773    Japan  2009        116295000.0\n",
      "8037    Japan  2010        123287000.0\n",
      "8301    Japan  2011        132761000.0\n",
      "8565    Japan  2012        141129000.0\n",
      "8829    Japan  2013        147888000.0\n",
      "9093    Japan  2014        157857000.0\n",
      "9357    Japan  2015        160560000.0\n",
      "9621    Japan  2016        166853000.0\n",
      "9885    Japan  2017        172790000.0\n",
      "10149   Japan  2018        177067000.0\n",
      "10413   Japan  2019        177067000.0\n"
     ]
    }
   ],
   "source": [
    "#Confirm line plot flattening at the end (duplicate value for '2019')\n",
    "print(jpn_mob_cell_subs)"
   ]
  },
  {
   "cell_type": "code",
   "execution_count": 50,
   "id": "serious-preliminary",
   "metadata": {},
   "outputs": [],
   "source": [
    "#Remove '2019' & '2020' column for data modeling\n",
    "jpn_mob_cell_subs_na = jpn_mob_cell_subs[jpn_mob_cell_subs['total_subscribers'].notnull()]"
   ]
  },
  {
   "cell_type": "code",
   "execution_count": 51,
   "id": "corresponding-thursday",
   "metadata": {},
   "outputs": [
    {
     "name": "stdout",
     "output_type": "stream",
     "text": [
      "      Country  year  total_subscribers\n",
      "117     Japan  1980                0.0\n",
      "381     Japan  1981            13275.0\n",
      "645     Japan  1982            19804.0\n",
      "909     Japan  1983            27198.0\n",
      "1173    Japan  1984            40392.0\n",
      "1437    Japan  1985            61800.0\n",
      "1701    Japan  1986            95131.0\n",
      "1965    Japan  1987           150773.0\n",
      "2229    Japan  1988           242888.0\n",
      "2493    Japan  1989           489558.0\n",
      "2757    Japan  1990           868078.0\n",
      "3021    Japan  1991          1378110.0\n",
      "3285    Japan  1992          1712550.0\n",
      "3549    Japan  1993          2131370.0\n",
      "3813    Japan  1994          4331370.0\n",
      "4077    Japan  1995         11712100.0\n",
      "4341    Japan  1996         26906500.0\n",
      "4605    Japan  1997         38253900.0\n",
      "4869    Japan  1998         47307600.0\n",
      "5133    Japan  1999         56845600.0\n",
      "5397    Japan  2000         66784400.0\n",
      "5661    Japan  2001         74819200.0\n",
      "5925    Japan  2002         81118300.0\n",
      "6189    Japan  2003         86655000.0\n",
      "6453    Japan  2004         91474000.0\n",
      "6717    Japan  2005         96484000.0\n",
      "6981    Japan  2006         99826000.0\n",
      "7245    Japan  2007        107339000.0\n",
      "7509    Japan  2008        110395000.0\n",
      "7773    Japan  2009        116295000.0\n",
      "8037    Japan  2010        123287000.0\n",
      "8301    Japan  2011        132761000.0\n",
      "8565    Japan  2012        141129000.0\n",
      "8829    Japan  2013        147888000.0\n",
      "9093    Japan  2014        157857000.0\n",
      "9357    Japan  2015        160560000.0\n",
      "9621    Japan  2016        166853000.0\n",
      "9885    Japan  2017        172790000.0\n",
      "10149   Japan  2018        177067000.0\n"
     ]
    }
   ],
   "source": [
    "#Drop duplicate value from '2019'\n",
    "jpn_mob_cell_subs_80_18 = jpn_mob_cell_subs_na.drop_duplicates(subset=['total_subscribers'], keep='first')\n",
    "print(jpn_mob_cell_subs_80_18)"
   ]
  },
  {
   "cell_type": "code",
   "execution_count": 52,
   "id": "antique-grace",
   "metadata": {},
   "outputs": [
    {
     "name": "stdout",
     "output_type": "stream",
     "text": [
      "      Country  year  total_subscribers  pct_change_year\n",
      "117     Japan  1980                0.0              NaN\n",
      "381     Japan  1981            13275.0              inf\n",
      "645     Japan  1982            19804.0         0.491827\n",
      "909     Japan  1983            27198.0         0.373359\n",
      "1173    Japan  1984            40392.0         0.485109\n",
      "1437    Japan  1985            61800.0         0.530006\n",
      "1701    Japan  1986            95131.0         0.539337\n",
      "1965    Japan  1987           150773.0         0.584899\n",
      "2229    Japan  1988           242888.0         0.610952\n",
      "2493    Japan  1989           489558.0         1.015571\n",
      "2757    Japan  1990           868078.0         0.773187\n",
      "3021    Japan  1991          1378110.0         0.587542\n",
      "3285    Japan  1992          1712550.0         0.242680\n",
      "3549    Japan  1993          2131370.0         0.244559\n",
      "3813    Japan  1994          4331370.0         1.032200\n",
      "4077    Japan  1995         11712100.0         1.704017\n",
      "4341    Japan  1996         26906500.0         1.297325\n",
      "4605    Japan  1997         38253900.0         0.421735\n",
      "4869    Japan  1998         47307600.0         0.236674\n",
      "5133    Japan  1999         56845600.0         0.201617\n",
      "5397    Japan  2000         66784400.0         0.174839\n",
      "5661    Japan  2001         74819200.0         0.120310\n",
      "5925    Japan  2002         81118300.0         0.084191\n",
      "6189    Japan  2003         86655000.0         0.068255\n",
      "6453    Japan  2004         91474000.0         0.055611\n",
      "6717    Japan  2005         96484000.0         0.054770\n",
      "6981    Japan  2006         99826000.0         0.034638\n",
      "7245    Japan  2007        107339000.0         0.075261\n",
      "7509    Japan  2008        110395000.0         0.028471\n",
      "7773    Japan  2009        116295000.0         0.053444\n",
      "8037    Japan  2010        123287000.0         0.060123\n",
      "8301    Japan  2011        132761000.0         0.076845\n",
      "8565    Japan  2012        141129000.0         0.063031\n",
      "8829    Japan  2013        147888000.0         0.047892\n",
      "9093    Japan  2014        157857000.0         0.067409\n",
      "9357    Japan  2015        160560000.0         0.017123\n",
      "9621    Japan  2016        166853000.0         0.039194\n",
      "9885    Japan  2017        172790000.0         0.035582\n",
      "10149   Japan  2018        177067000.0         0.024753\n"
     ]
    },
    {
     "name": "stderr",
     "output_type": "stream",
     "text": [
      "<ipython-input-52-a132ed1285b6>:2: SettingWithCopyWarning: \n",
      "A value is trying to be set on a copy of a slice from a DataFrame.\n",
      "Try using .loc[row_indexer,col_indexer] = value instead\n",
      "\n",
      "See the caveats in the documentation: https://pandas.pydata.org/pandas-docs/stable/user_guide/indexing.html#returning-a-view-versus-a-copy\n",
      "  jpn_mob_cell_subs_80_18['pct_change_year'] = jpn_mob_cell_subs_80_18['total_subscribers'].pct_change()\n"
     ]
    }
   ],
   "source": [
    "#Get percentage change for 'total_subscribers' column\n",
    "jpn_mob_cell_subs_80_18['pct_change_year'] = jpn_mob_cell_subs_80_18['total_subscribers'].pct_change()\n",
    "print(jpn_mob_cell_subs_80_18)"
   ]
  },
  {
   "cell_type": "code",
   "execution_count": 53,
   "id": "facial-orlando",
   "metadata": {},
   "outputs": [
    {
     "data": {
      "text/html": [
       "<div>\n",
       "<style scoped>\n",
       "    .dataframe tbody tr th:only-of-type {\n",
       "        vertical-align: middle;\n",
       "    }\n",
       "\n",
       "    .dataframe tbody tr th {\n",
       "        vertical-align: top;\n",
       "    }\n",
       "\n",
       "    .dataframe thead th {\n",
       "        text-align: right;\n",
       "    }\n",
       "</style>\n",
       "<table border=\"1\" class=\"dataframe\">\n",
       "  <thead>\n",
       "    <tr style=\"text-align: right;\">\n",
       "      <th></th>\n",
       "      <th>Country</th>\n",
       "      <th>year</th>\n",
       "      <th>total_subscribers</th>\n",
       "      <th>pct_change_year</th>\n",
       "    </tr>\n",
       "  </thead>\n",
       "  <tbody>\n",
       "    <tr>\n",
       "      <th>117</th>\n",
       "      <td>Japan</td>\n",
       "      <td>1980</td>\n",
       "      <td>0.0</td>\n",
       "      <td>NaN</td>\n",
       "    </tr>\n",
       "    <tr>\n",
       "      <th>381</th>\n",
       "      <td>Japan</td>\n",
       "      <td>1981</td>\n",
       "      <td>13275.0</td>\n",
       "      <td>NaN</td>\n",
       "    </tr>\n",
       "    <tr>\n",
       "      <th>645</th>\n",
       "      <td>Japan</td>\n",
       "      <td>1982</td>\n",
       "      <td>19804.0</td>\n",
       "      <td>0.491827</td>\n",
       "    </tr>\n",
       "    <tr>\n",
       "      <th>909</th>\n",
       "      <td>Japan</td>\n",
       "      <td>1983</td>\n",
       "      <td>27198.0</td>\n",
       "      <td>0.373359</td>\n",
       "    </tr>\n",
       "    <tr>\n",
       "      <th>1173</th>\n",
       "      <td>Japan</td>\n",
       "      <td>1984</td>\n",
       "      <td>40392.0</td>\n",
       "      <td>0.485109</td>\n",
       "    </tr>\n",
       "    <tr>\n",
       "      <th>1437</th>\n",
       "      <td>Japan</td>\n",
       "      <td>1985</td>\n",
       "      <td>61800.0</td>\n",
       "      <td>0.530006</td>\n",
       "    </tr>\n",
       "    <tr>\n",
       "      <th>1701</th>\n",
       "      <td>Japan</td>\n",
       "      <td>1986</td>\n",
       "      <td>95131.0</td>\n",
       "      <td>0.539337</td>\n",
       "    </tr>\n",
       "    <tr>\n",
       "      <th>1965</th>\n",
       "      <td>Japan</td>\n",
       "      <td>1987</td>\n",
       "      <td>150773.0</td>\n",
       "      <td>0.584899</td>\n",
       "    </tr>\n",
       "    <tr>\n",
       "      <th>2229</th>\n",
       "      <td>Japan</td>\n",
       "      <td>1988</td>\n",
       "      <td>242888.0</td>\n",
       "      <td>0.610952</td>\n",
       "    </tr>\n",
       "    <tr>\n",
       "      <th>2493</th>\n",
       "      <td>Japan</td>\n",
       "      <td>1989</td>\n",
       "      <td>489558.0</td>\n",
       "      <td>1.015571</td>\n",
       "    </tr>\n",
       "    <tr>\n",
       "      <th>2757</th>\n",
       "      <td>Japan</td>\n",
       "      <td>1990</td>\n",
       "      <td>868078.0</td>\n",
       "      <td>0.773187</td>\n",
       "    </tr>\n",
       "    <tr>\n",
       "      <th>3021</th>\n",
       "      <td>Japan</td>\n",
       "      <td>1991</td>\n",
       "      <td>1378110.0</td>\n",
       "      <td>0.587542</td>\n",
       "    </tr>\n",
       "    <tr>\n",
       "      <th>3285</th>\n",
       "      <td>Japan</td>\n",
       "      <td>1992</td>\n",
       "      <td>1712550.0</td>\n",
       "      <td>0.242680</td>\n",
       "    </tr>\n",
       "    <tr>\n",
       "      <th>3549</th>\n",
       "      <td>Japan</td>\n",
       "      <td>1993</td>\n",
       "      <td>2131370.0</td>\n",
       "      <td>0.244559</td>\n",
       "    </tr>\n",
       "    <tr>\n",
       "      <th>3813</th>\n",
       "      <td>Japan</td>\n",
       "      <td>1994</td>\n",
       "      <td>4331370.0</td>\n",
       "      <td>1.032200</td>\n",
       "    </tr>\n",
       "    <tr>\n",
       "      <th>4077</th>\n",
       "      <td>Japan</td>\n",
       "      <td>1995</td>\n",
       "      <td>11712100.0</td>\n",
       "      <td>1.704017</td>\n",
       "    </tr>\n",
       "    <tr>\n",
       "      <th>4341</th>\n",
       "      <td>Japan</td>\n",
       "      <td>1996</td>\n",
       "      <td>26906500.0</td>\n",
       "      <td>1.297325</td>\n",
       "    </tr>\n",
       "    <tr>\n",
       "      <th>4605</th>\n",
       "      <td>Japan</td>\n",
       "      <td>1997</td>\n",
       "      <td>38253900.0</td>\n",
       "      <td>0.421735</td>\n",
       "    </tr>\n",
       "    <tr>\n",
       "      <th>4869</th>\n",
       "      <td>Japan</td>\n",
       "      <td>1998</td>\n",
       "      <td>47307600.0</td>\n",
       "      <td>0.236674</td>\n",
       "    </tr>\n",
       "    <tr>\n",
       "      <th>5133</th>\n",
       "      <td>Japan</td>\n",
       "      <td>1999</td>\n",
       "      <td>56845600.0</td>\n",
       "      <td>0.201617</td>\n",
       "    </tr>\n",
       "    <tr>\n",
       "      <th>5397</th>\n",
       "      <td>Japan</td>\n",
       "      <td>2000</td>\n",
       "      <td>66784400.0</td>\n",
       "      <td>0.174839</td>\n",
       "    </tr>\n",
       "    <tr>\n",
       "      <th>5661</th>\n",
       "      <td>Japan</td>\n",
       "      <td>2001</td>\n",
       "      <td>74819200.0</td>\n",
       "      <td>0.120310</td>\n",
       "    </tr>\n",
       "    <tr>\n",
       "      <th>5925</th>\n",
       "      <td>Japan</td>\n",
       "      <td>2002</td>\n",
       "      <td>81118300.0</td>\n",
       "      <td>0.084191</td>\n",
       "    </tr>\n",
       "    <tr>\n",
       "      <th>6189</th>\n",
       "      <td>Japan</td>\n",
       "      <td>2003</td>\n",
       "      <td>86655000.0</td>\n",
       "      <td>0.068255</td>\n",
       "    </tr>\n",
       "    <tr>\n",
       "      <th>6453</th>\n",
       "      <td>Japan</td>\n",
       "      <td>2004</td>\n",
       "      <td>91474000.0</td>\n",
       "      <td>0.055611</td>\n",
       "    </tr>\n",
       "    <tr>\n",
       "      <th>6717</th>\n",
       "      <td>Japan</td>\n",
       "      <td>2005</td>\n",
       "      <td>96484000.0</td>\n",
       "      <td>0.054770</td>\n",
       "    </tr>\n",
       "    <tr>\n",
       "      <th>6981</th>\n",
       "      <td>Japan</td>\n",
       "      <td>2006</td>\n",
       "      <td>99826000.0</td>\n",
       "      <td>0.034638</td>\n",
       "    </tr>\n",
       "    <tr>\n",
       "      <th>7245</th>\n",
       "      <td>Japan</td>\n",
       "      <td>2007</td>\n",
       "      <td>107339000.0</td>\n",
       "      <td>0.075261</td>\n",
       "    </tr>\n",
       "    <tr>\n",
       "      <th>7509</th>\n",
       "      <td>Japan</td>\n",
       "      <td>2008</td>\n",
       "      <td>110395000.0</td>\n",
       "      <td>0.028471</td>\n",
       "    </tr>\n",
       "    <tr>\n",
       "      <th>7773</th>\n",
       "      <td>Japan</td>\n",
       "      <td>2009</td>\n",
       "      <td>116295000.0</td>\n",
       "      <td>0.053444</td>\n",
       "    </tr>\n",
       "    <tr>\n",
       "      <th>8037</th>\n",
       "      <td>Japan</td>\n",
       "      <td>2010</td>\n",
       "      <td>123287000.0</td>\n",
       "      <td>0.060123</td>\n",
       "    </tr>\n",
       "    <tr>\n",
       "      <th>8301</th>\n",
       "      <td>Japan</td>\n",
       "      <td>2011</td>\n",
       "      <td>132761000.0</td>\n",
       "      <td>0.076845</td>\n",
       "    </tr>\n",
       "    <tr>\n",
       "      <th>8565</th>\n",
       "      <td>Japan</td>\n",
       "      <td>2012</td>\n",
       "      <td>141129000.0</td>\n",
       "      <td>0.063031</td>\n",
       "    </tr>\n",
       "    <tr>\n",
       "      <th>8829</th>\n",
       "      <td>Japan</td>\n",
       "      <td>2013</td>\n",
       "      <td>147888000.0</td>\n",
       "      <td>0.047892</td>\n",
       "    </tr>\n",
       "    <tr>\n",
       "      <th>9093</th>\n",
       "      <td>Japan</td>\n",
       "      <td>2014</td>\n",
       "      <td>157857000.0</td>\n",
       "      <td>0.067409</td>\n",
       "    </tr>\n",
       "    <tr>\n",
       "      <th>9357</th>\n",
       "      <td>Japan</td>\n",
       "      <td>2015</td>\n",
       "      <td>160560000.0</td>\n",
       "      <td>0.017123</td>\n",
       "    </tr>\n",
       "    <tr>\n",
       "      <th>9621</th>\n",
       "      <td>Japan</td>\n",
       "      <td>2016</td>\n",
       "      <td>166853000.0</td>\n",
       "      <td>0.039194</td>\n",
       "    </tr>\n",
       "    <tr>\n",
       "      <th>9885</th>\n",
       "      <td>Japan</td>\n",
       "      <td>2017</td>\n",
       "      <td>172790000.0</td>\n",
       "      <td>0.035582</td>\n",
       "    </tr>\n",
       "    <tr>\n",
       "      <th>10149</th>\n",
       "      <td>Japan</td>\n",
       "      <td>2018</td>\n",
       "      <td>177067000.0</td>\n",
       "      <td>0.024753</td>\n",
       "    </tr>\n",
       "  </tbody>\n",
       "</table>\n",
       "</div>"
      ],
      "text/plain": [
       "      Country  year  total_subscribers  pct_change_year\n",
       "117     Japan  1980                0.0              NaN\n",
       "381     Japan  1981            13275.0              NaN\n",
       "645     Japan  1982            19804.0         0.491827\n",
       "909     Japan  1983            27198.0         0.373359\n",
       "1173    Japan  1984            40392.0         0.485109\n",
       "1437    Japan  1985            61800.0         0.530006\n",
       "1701    Japan  1986            95131.0         0.539337\n",
       "1965    Japan  1987           150773.0         0.584899\n",
       "2229    Japan  1988           242888.0         0.610952\n",
       "2493    Japan  1989           489558.0         1.015571\n",
       "2757    Japan  1990           868078.0         0.773187\n",
       "3021    Japan  1991          1378110.0         0.587542\n",
       "3285    Japan  1992          1712550.0         0.242680\n",
       "3549    Japan  1993          2131370.0         0.244559\n",
       "3813    Japan  1994          4331370.0         1.032200\n",
       "4077    Japan  1995         11712100.0         1.704017\n",
       "4341    Japan  1996         26906500.0         1.297325\n",
       "4605    Japan  1997         38253900.0         0.421735\n",
       "4869    Japan  1998         47307600.0         0.236674\n",
       "5133    Japan  1999         56845600.0         0.201617\n",
       "5397    Japan  2000         66784400.0         0.174839\n",
       "5661    Japan  2001         74819200.0         0.120310\n",
       "5925    Japan  2002         81118300.0         0.084191\n",
       "6189    Japan  2003         86655000.0         0.068255\n",
       "6453    Japan  2004         91474000.0         0.055611\n",
       "6717    Japan  2005         96484000.0         0.054770\n",
       "6981    Japan  2006         99826000.0         0.034638\n",
       "7245    Japan  2007        107339000.0         0.075261\n",
       "7509    Japan  2008        110395000.0         0.028471\n",
       "7773    Japan  2009        116295000.0         0.053444\n",
       "8037    Japan  2010        123287000.0         0.060123\n",
       "8301    Japan  2011        132761000.0         0.076845\n",
       "8565    Japan  2012        141129000.0         0.063031\n",
       "8829    Japan  2013        147888000.0         0.047892\n",
       "9093    Japan  2014        157857000.0         0.067409\n",
       "9357    Japan  2015        160560000.0         0.017123\n",
       "9621    Japan  2016        166853000.0         0.039194\n",
       "9885    Japan  2017        172790000.0         0.035582\n",
       "10149   Japan  2018        177067000.0         0.024753"
      ]
     },
     "execution_count": 53,
     "metadata": {},
     "output_type": "execute_result"
    }
   ],
   "source": [
    "#Remove inf from data\n",
    "jpn_mob_cell_subs_80_18.replace([np.inf, -np.inf], np.nan)"
   ]
  },
  {
   "cell_type": "code",
   "execution_count": 54,
   "id": "angry-pipeline",
   "metadata": {},
   "outputs": [
    {
     "data": {
      "image/png": "[encoded data removed]",
      "text/plain": [
       "<Figure size 1368x720 with 1 Axes>"
      ]
     },
     "metadata": {},
     "output_type": "display_data"
    }
   ],
   "source": [
    "#Plot 'pct_change_year' column for Japan Subscribers\n",
    "plt.figure(figsize=(19,10))\n",
    "ax = sns.barplot(x='year', y='total_subscribers', data=jpn_mob_cell_subs_80_18, palette='Blues_d', dodge=False)\n",
    "ax.set_title('Japan Percentage Change of Subscribers (1980-2018)', fontsize=29)\n",
    "tick_labels = ax.set_xticklabels(ax.get_xticklabels(which='both'), rotation=90, ha=\"right\")\n",
    "ax.set(xlabel='Year', ylabel='Total Subscribers')\n",
    "for x in tick_labels:\n",
    "    x.set_ha('center')\n",
    "plt.tight_layout()\n",
    "plt.show()"
   ]
  },
  {
   "cell_type": "code",
   "execution_count": 55,
   "id": "coated-frank",
   "metadata": {},
   "outputs": [
    {
     "name": "stdout",
     "output_type": "stream",
     "text": [
      "           Country  year  total_subscribers\n",
      "124    Korea, Rep.  1980                0.0\n",
      "388    Korea, Rep.  1981                0.0\n",
      "652    Korea, Rep.  1982                0.0\n",
      "916    Korea, Rep.  1983                0.0\n",
      "1180   Korea, Rep.  1984                0.0\n",
      "1444   Korea, Rep.  1985                0.0\n",
      "1708   Korea, Rep.  1986             7090.0\n",
      "1972   Korea, Rep.  1987            10255.0\n",
      "2236   Korea, Rep.  1988            20353.0\n",
      "2500   Korea, Rep.  1989            39718.0\n",
      "2764   Korea, Rep.  1990            80005.0\n",
      "3028   Korea, Rep.  1991           166108.0\n",
      "3292   Korea, Rep.  1992           271927.0\n",
      "3556   Korea, Rep.  1993           471784.0\n",
      "3820   Korea, Rep.  1994           960258.0\n",
      "4084   Korea, Rep.  1995          1641290.0\n",
      "4348   Korea, Rep.  1996          3180990.0\n",
      "4612   Korea, Rep.  1997          6878790.0\n",
      "4876   Korea, Rep.  1998         14018600.0\n",
      "5140   Korea, Rep.  1999         23442700.0\n",
      "5404   Korea, Rep.  2000         26816400.0\n",
      "5668   Korea, Rep.  2001         29045600.0\n",
      "5932   Korea, Rep.  2002         32342500.0\n",
      "6196   Korea, Rep.  2003         33591800.0\n",
      "6460   Korea, Rep.  2004         36586100.0\n",
      "6724   Korea, Rep.  2005         38342300.0\n",
      "6988   Korea, Rep.  2006         40197100.0\n",
      "7252   Korea, Rep.  2007         44369200.0\n",
      "7516   Korea, Rep.  2008         45607000.0\n",
      "7780   Korea, Rep.  2009         47944200.0\n",
      "8044   Korea, Rep.  2010         50767200.0\n",
      "8308   Korea, Rep.  2011         52506800.0\n",
      "8572   Korea, Rep.  2012         53624400.0\n",
      "8836   Korea, Rep.  2013         54680800.0\n",
      "9100   Korea, Rep.  2014         57290400.0\n",
      "9364   Korea, Rep.  2015         58935100.0\n",
      "9628   Korea, Rep.  2016         61295500.0\n",
      "9892   Korea, Rep.  2017         63658700.0\n",
      "10156  Korea, Rep.  2018         66355800.0\n",
      "10420  Korea, Rep.  2019         68892500.0\n"
     ]
    }
   ],
   "source": [
    "#Slice South Korea from index to compare to Japan and model data\n",
    "kor_mob_cell_subs = mobile_cell_subs_merge.loc[mobile_cell_subs_merge['Country'].isin(['Korea, Rep.'])]\n",
    "print(kor_mob_cell_subs)"
   ]
  },
  {
   "cell_type": "code",
   "execution_count": 56,
   "id": "a3752600",
   "metadata": {},
   "outputs": [
    {
     "name": "stdout",
     "output_type": "stream",
     "text": [
      "                    Country  year  total_subscribers\n",
      "94     Hong Kong SAR, China  1980                0.0\n",
      "358    Hong Kong SAR, China  1981                0.0\n",
      "622    Hong Kong SAR, China  1982                0.0\n",
      "886    Hong Kong SAR, China  1983                0.0\n",
      "1150   Hong Kong SAR, China  1984             1000.0\n",
      "1414   Hong Kong SAR, China  1985             4400.0\n",
      "1678   Hong Kong SAR, China  1986            10000.0\n",
      "1942   Hong Kong SAR, China  1987            28060.0\n",
      "2206   Hong Kong SAR, China  1988            51280.0\n",
      "2470   Hong Kong SAR, China  1989            89193.0\n",
      "2734   Hong Kong SAR, China  1990           133912.0\n",
      "2998   Hong Kong SAR, China  1991           189664.0\n",
      "3262   Hong Kong SAR, China  1992           233324.0\n",
      "3526   Hong Kong SAR, China  1993           290843.0\n",
      "3790   Hong Kong SAR, China  1994           484823.0\n",
      "4054   Hong Kong SAR, China  1995           798373.0\n",
      "4318   Hong Kong SAR, China  1996          1361860.0\n",
      "4582   Hong Kong SAR, China  1997          2229860.0\n",
      "4846   Hong Kong SAR, China  1998          3174370.0\n",
      "5110   Hong Kong SAR, China  1999          4275050.0\n",
      "5374   Hong Kong SAR, China  2000          5447350.0\n",
      "5638   Hong Kong SAR, China  2001          5776360.0\n",
      "5902   Hong Kong SAR, China  2002          6395730.0\n",
      "6166   Hong Kong SAR, China  2003          7349200.0\n",
      "6430   Hong Kong SAR, China  2004          8213960.0\n",
      "6694   Hong Kong SAR, China  2005          8544260.0\n",
      "6958   Hong Kong SAR, China  2006          9444140.0\n",
      "7222   Hong Kong SAR, China  2007         10751600.0\n",
      "7486   Hong Kong SAR, China  2008         11580100.0\n",
      "7750   Hong Kong SAR, China  2009         12597200.0\n",
      "8014   Hong Kong SAR, China  2010         13793700.0\n",
      "8278   Hong Kong SAR, China  2011         15292900.0\n",
      "8542   Hong Kong SAR, China  2012         16387500.0\n",
      "8806   Hong Kong SAR, China  2013         16973100.0\n",
      "9070   Hong Kong SAR, China  2014         16959500.0\n",
      "9334   Hong Kong SAR, China  2015         16724400.0\n",
      "9598   Hong Kong SAR, China  2016         17585000.0\n",
      "9862   Hong Kong SAR, China  2017         18394800.0\n",
      "10126  Hong Kong SAR, China  2018         19124200.0\n",
      "10390  Hong Kong SAR, China  2019         21455700.0\n"
     ]
    }
   ],
   "source": [
    "#Slice Hong Kong from index to compare to Japan and model data\n",
    "hkg_mob_cell_subs = mobile_cell_subs_merge.loc[mobile_cell_subs_merge['Country'].isin(['Hong Kong SAR, China'])]\n"
   ]
  },
  {
   "cell_type": "code",
   "execution_count": 57,
   "id": "900a6164",
   "metadata": {},
   "outputs": [
    {
     "name": "stdout",
     "output_type": "stream",
     "text": [
      "      Country  year  total_subscribers\n",
      "38      China  1980       0.000000e+00\n",
      "302     China  1981       0.000000e+00\n",
      "566     China  1982       0.000000e+00\n",
      "830     China  1983       0.000000e+00\n",
      "1094    China  1984       0.000000e+00\n",
      "1358    China  1985       0.000000e+00\n",
      "1622    China  1986       0.000000e+00\n",
      "1886    China  1987       7.000000e+02\n",
      "2150    China  1988       3.227000e+03\n",
      "2414    China  1989       9.805000e+03\n",
      "2678    China  1990       1.831900e+04\n",
      "2942    China  1991       4.754400e+04\n",
      "3206    China  1992       1.769430e+05\n",
      "3470    China  1993       6.380000e+05\n",
      "3734    China  1994       1.568000e+06\n",
      "3998    China  1995       3.629000e+06\n",
      "4262    China  1996       6.853000e+06\n",
      "4526    China  1997       1.323300e+07\n",
      "4790    China  1998       2.386300e+07\n",
      "5054    China  1999       4.329600e+07\n",
      "5318    China  2000       8.526000e+07\n",
      "5582    China  2001       1.448200e+08\n",
      "5846    China  2002       2.060050e+08\n",
      "6110    China  2003       2.699530e+08\n",
      "6374    China  2004       3.348240e+08\n",
      "6638    China  2005       3.934060e+08\n",
      "6902    China  2006       4.610580e+08\n",
      "7166    China  2007       5.473060e+08\n",
      "7430    China  2008       6.412450e+08\n",
      "7694    China  2009       7.472140e+08\n",
      "7958    China  2010       8.590030e+08\n",
      "8222    China  2011       9.862530e+08\n",
      "8486    China  2012       1.112160e+09\n",
      "8750    China  2013       1.229110e+09\n",
      "9014    China  2014       1.286090e+09\n",
      "9278    China  2015       1.291980e+09\n",
      "9542    China  2016       1.364930e+09\n",
      "9806    China  2017       1.469880e+09\n",
      "10070   China  2018       1.641150e+09\n",
      "10334   China  2019       1.725700e+09\n"
     ]
    }
   ],
   "source": [
    "#Slice China from index to compare to Japan and model data\n",
    "ch_mob_cell_subs = mobile_cell_subs_merge.loc[mobile_cell_subs_merge['Country'].isin(['China'])]\n",
    "print(ch_mob_cell_subs)"
   ]
  },
  {
   "cell_type": "code",
   "execution_count": 58,
   "id": "prompt-boring",
   "metadata": {},
   "outputs": [
    {
     "name": "stdout",
     "output_type": "stream",
     "text": [
      "         Country  year  total_subscribers\n",
      "104    Indonesia  1980                0.0\n",
      "368    Indonesia  1981                0.0\n",
      "632    Indonesia  1982                0.0\n",
      "896    Indonesia  1983                0.0\n",
      "1160   Indonesia  1984             1750.0\n",
      "1424   Indonesia  1985             2029.0\n",
      "1688   Indonesia  1986             4531.0\n",
      "1952   Indonesia  1987             6321.0\n",
      "2216   Indonesia  1988             9008.0\n",
      "2480   Indonesia  1989            12928.0\n",
      "2744   Indonesia  1990            18096.0\n",
      "3008   Indonesia  1991            24528.0\n",
      "3272   Indonesia  1992            35546.0\n",
      "3536   Indonesia  1993            53438.0\n",
      "3800   Indonesia  1994            78024.0\n",
      "4064   Indonesia  1995           210643.0\n",
      "4328   Indonesia  1996           562517.0\n",
      "4592   Indonesia  1997           916173.0\n",
      "4856   Indonesia  1998          1065820.0\n",
      "5120   Indonesia  1999          2220970.0\n",
      "5384   Indonesia  2000          3669330.0\n",
      "5648   Indonesia  2001          6520950.0\n",
      "5912   Indonesia  2002         11700000.0\n",
      "6176   Indonesia  2003         18495300.0\n",
      "6440   Indonesia  2004         30336600.0\n",
      "6704   Indonesia  2005         46910000.0\n",
      "6968   Indonesia  2006         63803000.0\n",
      "7232   Indonesia  2007         93386900.0\n",
      "7496   Indonesia  2008        140578000.0\n",
      "7760   Indonesia  2009        163677000.0\n",
      "8024   Indonesia  2010        211290000.0\n",
      "8288   Indonesia  2011        249806000.0\n",
      "8552   Indonesia  2012        281964000.0\n",
      "8816   Indonesia  2013        313227000.0\n",
      "9080   Indonesia  2014        325583000.0\n",
      "9344   Indonesia  2015        338948000.0\n",
      "9608   Indonesia  2016        385573000.0\n",
      "9872   Indonesia  2017        435194000.0\n",
      "10136  Indonesia  2018        320770000.0\n",
      "10400  Indonesia  2019        345025000.0\n"
     ]
    }
   ],
   "source": [
    "#Slice Indonesia from index\n",
    "idn_mob_cell_subs = mobile_cell_subs_merge.loc[mobile_cell_subs_merge['Country'].isin(['Indonesia'])]\n",
    "print(idn_mob_cell_subs)"
   ]
  },
  {
   "cell_type": "code",
   "execution_count": 59,
   "id": "ancient-works",
   "metadata": {},
   "outputs": [
    {
     "name": "stdout",
     "output_type": "stream",
     "text": [
      "           Country  year  total_subscribers\n",
      "185    Philippines  1980                0.0\n",
      "449    Philippines  1981                0.0\n",
      "713    Philippines  1982                0.0\n",
      "977    Philippines  1983                0.0\n",
      "1241   Philippines  1984                0.0\n",
      "1505   Philippines  1985                0.0\n",
      "1769   Philippines  1986                0.0\n",
      "2033   Philippines  1987                0.0\n",
      "2297   Philippines  1988                0.0\n",
      "2561   Philippines  1989                0.0\n",
      "2825   Philippines  1990                0.0\n",
      "3089   Philippines  1991            34600.0\n",
      "3353   Philippines  1992            56044.0\n",
      "3617   Philippines  1993           102400.0\n",
      "3881   Philippines  1994           171903.0\n",
      "4145   Philippines  1995           493862.0\n",
      "4409   Philippines  1996           959024.0\n",
      "4673   Philippines  1997          1343620.0\n",
      "4937   Philippines  1998          1733650.0\n",
      "5201   Philippines  1999          2849980.0\n",
      "5465   Philippines  2000          6454360.0\n",
      "5729   Philippines  2001         12159200.0\n",
      "5993   Philippines  2002         15383000.0\n",
      "6257   Philippines  2003         22509600.0\n",
      "6521   Philippines  2004         32935900.0\n",
      "6785   Philippines  2005         34779000.0\n",
      "7049   Philippines  2006         42868900.0\n",
      "7313   Philippines  2007         57344800.0\n",
      "7577   Philippines  2008         68117200.0\n",
      "7841   Philippines  2009         75586600.0\n",
      "8105   Philippines  2010         83150100.0\n",
      "8369   Philippines  2011         94189800.0\n",
      "8633   Philippines  2012        101978000.0\n",
      "8897   Philippines  2013        102824000.0\n",
      "9161   Philippines  2014        111326000.0\n",
      "9425   Philippines  2015        117838000.0\n",
      "9689   Philippines  2016        120097000.0\n",
      "9953   Philippines  2017        115825000.0\n",
      "10217  Philippines  2018        115825000.0\n",
      "10481  Philippines  2019        167322000.0\n"
     ]
    }
   ],
   "source": [
    "#Slice Philippines from index\n",
    "phl_mob_cell_subs = mobile_cell_subs_merge.loc[mobile_cell_subs_merge['Country'].isin(['Philippines'])]\n",
    "print(phl_mob_cell_subs)"
   ]
  },
  {
   "cell_type": "code",
   "execution_count": 60,
   "id": "authentic-freeware",
   "metadata": {},
   "outputs": [
    {
     "name": "stdout",
     "output_type": "stream",
     "text": [
      "        Country  year  total_subscribers\n",
      "231    Thailand  1980                0.0\n",
      "495    Thailand  1981                0.0\n",
      "759    Thailand  1982                0.0\n",
      "1023   Thailand  1983                0.0\n",
      "1287   Thailand  1984                0.0\n",
      "1551   Thailand  1985                0.0\n",
      "1815   Thailand  1986              821.0\n",
      "2079   Thailand  1987             5882.0\n",
      "2343   Thailand  1988            17563.0\n",
      "2607   Thailand  1989            39936.0\n",
      "2871   Thailand  1990            63223.0\n",
      "3135   Thailand  1991           123551.0\n",
      "3399   Thailand  1992           250584.0\n",
      "3663   Thailand  1993           413557.0\n",
      "3927   Thailand  1994           737283.0\n",
      "4191   Thailand  1995          1297830.0\n",
      "4455   Thailand  1996          1844630.0\n",
      "4719   Thailand  1997          2203910.0\n",
      "4983   Thailand  1998          1976960.0\n",
      "5247   Thailand  1999          2339400.0\n",
      "5511   Thailand  2000          3056000.0\n",
      "5775   Thailand  2001          7550000.0\n",
      "6039   Thailand  2002         17449900.0\n",
      "6303   Thailand  2003         21616900.0\n",
      "6567   Thailand  2004         26965500.0\n",
      "6831   Thailand  2005         30460200.0\n",
      "7095   Thailand  2006         40125500.0\n",
      "7359   Thailand  2007         52974000.0\n",
      "7623   Thailand  2008         61837200.0\n",
      "7887   Thailand  2009         65952300.0\n",
      "8151   Thailand  2010         71726300.0\n",
      "8415   Thailand  2011         77449000.0\n",
      "8679   Thailand  2012         85012000.0\n",
      "8943   Thailand  2013         93849000.0\n",
      "9207   Thailand  2014         97096000.0\n",
      "9471   Thailand  2015        102942000.0\n",
      "9735   Thailand  2016        119669000.0\n",
      "9999   Thailand  2017        121530000.0\n",
      "10263  Thailand  2018        125098000.0\n",
      "10527  Thailand  2019        129614000.0\n"
     ]
    }
   ],
   "source": [
    "#Slice Thailand from index\n",
    "tha_mob_cell_subs = mobile_cell_subs_merge.loc[mobile_cell_subs_merge['Country'].isin(['Thailand'])]\n",
    "print(tha_mob_cell_subs)"
   ]
  },
  {
   "cell_type": "code",
   "execution_count": 61,
   "id": "usual-shift",
   "metadata": {},
   "outputs": [
    {
     "name": "stdout",
     "output_type": "stream",
     "text": [
      "       Country  year  total_subscribers\n",
      "255    Vietnam  1980                0.0\n",
      "519    Vietnam  1981                0.0\n",
      "783    Vietnam  1982                0.0\n",
      "1047   Vietnam  1983                0.0\n",
      "1311   Vietnam  1984                0.0\n",
      "1575   Vietnam  1985                0.0\n",
      "1839   Vietnam  1986                0.0\n",
      "2103   Vietnam  1987                0.0\n",
      "2367   Vietnam  1988                0.0\n",
      "2631   Vietnam  1989                0.0\n",
      "2895   Vietnam  1990                0.0\n",
      "3159   Vietnam  1991                0.0\n",
      "3423   Vietnam  1992              800.0\n",
      "3687   Vietnam  1993             4060.0\n",
      "3951   Vietnam  1994            12500.0\n",
      "4215   Vietnam  1995            23500.0\n",
      "4479   Vietnam  1996            68910.0\n",
      "4743   Vietnam  1997           160457.0\n",
      "5007   Vietnam  1998           222700.0\n",
      "5271   Vietnam  1999           328671.0\n",
      "5535   Vietnam  2000           788559.0\n",
      "5799   Vietnam  2001          1251200.0\n",
      "6063   Vietnam  2002          1902390.0\n",
      "6327   Vietnam  2003          2742000.0\n",
      "6591   Vietnam  2004          4960000.0\n",
      "6855   Vietnam  2005          9593200.0\n",
      "7119   Vietnam  2006         18892500.0\n",
      "7383   Vietnam  2007         45024000.0\n",
      "7647   Vietnam  2008         74872300.0\n",
      "7911   Vietnam  2009         98224000.0\n",
      "8175   Vietnam  2010        111570000.0\n",
      "8439   Vietnam  2011        127318000.0\n",
      "8703   Vietnam  2012        131674000.0\n",
      "8967   Vietnam  2013        123736000.0\n",
      "9231   Vietnam  2014        136148000.0\n",
      "9495   Vietnam  2015        120324000.0\n",
      "9759   Vietnam  2016        120600000.0\n",
      "10023  Vietnam  2017        120016000.0\n",
      "10287  Vietnam  2018        140639000.0\n",
      "10551  Vietnam  2019        136230000.0\n"
     ]
    }
   ],
   "source": [
    "#Slice Vietnam from index\n",
    "vnm_mob_cell_subs = mobile_cell_subs_merge.loc[mobile_cell_subs_merge['Country'].isin(['Vietnam'])]\n",
    "print(vnm_mob_cell_subs)"
   ]
  },
  {
   "cell_type": "code",
   "execution_count": 62,
   "id": "2026d067",
   "metadata": {},
   "outputs": [
    {
     "name": "stdout",
     "output_type": "stream",
     "text": [
      "        Country  year  total_subscribers\n",
      "167    Malaysia  1980                0.0\n",
      "431    Malaysia  1981                0.0\n",
      "695    Malaysia  1982                0.0\n",
      "959    Malaysia  1983                0.0\n",
      "1223   Malaysia  1984                0.0\n",
      "1487   Malaysia  1985                0.0\n",
      "1751   Malaysia  1986            10817.0\n",
      "2015   Malaysia  1987            17411.0\n",
      "2279   Malaysia  1988            27302.0\n",
      "2543   Malaysia  1989            39419.0\n",
      "2807   Malaysia  1990            86620.0\n",
      "3071   Malaysia  1991           130000.0\n",
      "3335   Malaysia  1992           200573.0\n",
      "3599   Malaysia  1993           340022.0\n",
      "3863   Malaysia  1994           571720.0\n",
      "4127   Malaysia  1995          1005070.0\n",
      "4391   Malaysia  1996          1520320.0\n",
      "4655   Malaysia  1997          2000000.0\n",
      "4919   Malaysia  1998          2200000.0\n",
      "5183   Malaysia  1999          2990000.0\n",
      "5447   Malaysia  2000          5121750.0\n",
      "5711   Malaysia  2001          7385000.0\n",
      "5975   Malaysia  2002          9053000.0\n",
      "6239   Malaysia  2003         11124000.0\n",
      "6503   Malaysia  2004         14611000.0\n",
      "6767   Malaysia  2005         19545000.0\n",
      "7031   Malaysia  2006         19463700.0\n",
      "7295   Malaysia  2007         23347000.0\n",
      "7559   Malaysia  2008         27713000.0\n",
      "7823   Malaysia  2009         30144000.0\n",
      "8087   Malaysia  2010         33858700.0\n",
      "8351   Malaysia  2011         36661300.0\n",
      "8615   Malaysia  2012         41324700.0\n",
      "8879   Malaysia  2013         43005000.0\n",
      "9143   Malaysia  2014         44928600.0\n",
      "9407   Malaysia  2015         44104000.0\n",
      "9671   Malaysia  2016         43465000.0\n",
      "9935   Malaysia  2017         42338500.0\n",
      "10199  Malaysia  2018         42413400.0\n",
      "10463  Malaysia  2019         44601400.0\n"
     ]
    }
   ],
   "source": [
    "#Slice Malaysia from index\n",
    "mys_mob_cell_subs = mobile_cell_subs_merge.loc[mobile_cell_subs_merge['Country'].isin(['Malaysia'])]\n",
    "print(mys_mob_cell_subs)"
   ]
  },
  {
   "cell_type": "code",
   "execution_count": 63,
   "id": "0665adc6",
   "metadata": {},
   "outputs": [
    {
     "name": "stdout",
     "output_type": "stream",
     "text": [
      "       Country  year  total_subscribers\n",
      "158    Myanmar  1980                0.0\n",
      "422    Myanmar  1981                0.0\n",
      "686    Myanmar  1982                0.0\n",
      "950    Myanmar  1983                0.0\n",
      "1214   Myanmar  1984                0.0\n",
      "1478   Myanmar  1985                0.0\n",
      "1742   Myanmar  1986                0.0\n",
      "2006   Myanmar  1987                0.0\n",
      "2270   Myanmar  1988                0.0\n",
      "2534   Myanmar  1989                0.0\n",
      "2798   Myanmar  1990                0.0\n",
      "3062   Myanmar  1991                0.0\n",
      "3326   Myanmar  1992                0.0\n",
      "3590   Myanmar  1993              643.0\n",
      "3854   Myanmar  1994             1920.0\n",
      "4118   Myanmar  1995             2766.0\n",
      "4382   Myanmar  1996             7260.0\n",
      "4646   Myanmar  1997             8492.0\n",
      "4910   Myanmar  1998             8516.0\n",
      "5174   Myanmar  1999            11389.0\n",
      "5438   Myanmar  2000            13397.0\n",
      "5702   Myanmar  2001            22671.0\n",
      "5966   Myanmar  2002            47982.0\n",
      "6230   Myanmar  2003            66517.0\n",
      "6494   Myanmar  2004            92452.0\n",
      "6758   Myanmar  2005           128700.0\n",
      "7022   Myanmar  2006           214214.0\n",
      "7286   Myanmar  2007           247641.0\n",
      "7550   Myanmar  2008           367388.0\n",
      "7814   Myanmar  2009           502005.0\n",
      "8078   Myanmar  2010           594000.0\n",
      "8342   Myanmar  2011          1243620.0\n",
      "8606   Myanmar  2012          3729620.0\n",
      "8870   Myanmar  2013          6832380.0\n",
      "9134   Myanmar  2014         29029300.0\n",
      "9398   Myanmar  2015         40993700.0\n",
      "9662   Myanmar  2016         50586400.0\n",
      "9926   Myanmar  2017         47946700.0\n",
      "10190  Myanmar  2018         61144000.0\n",
      "10454  Myanmar  2019         61144000.0\n"
     ]
    }
   ],
   "source": [
    "#Slice Myanmar from index\n",
    "mmr_mob_cell_subs = mobile_cell_subs_merge.loc[mobile_cell_subs_merge['Country'].isin(['Myanmar'])]\n",
    "print(mmr_mob_cell_subs)"
   ]
  },
  {
   "cell_type": "code",
   "execution_count": 64,
   "id": "2bf57eb5",
   "metadata": {},
   "outputs": [
    {
     "name": "stdout",
     "output_type": "stream",
     "text": [
      "       Country  year  total_subscribers\n",
      "127    Lao PDR  1980                0.0\n",
      "391    Lao PDR  1981                0.0\n",
      "655    Lao PDR  1982                0.0\n",
      "919    Lao PDR  1983                0.0\n",
      "1183   Lao PDR  1984                0.0\n",
      "1447   Lao PDR  1985                0.0\n",
      "1711   Lao PDR  1986                0.0\n",
      "1975   Lao PDR  1987                0.0\n",
      "2239   Lao PDR  1988                0.0\n",
      "2503   Lao PDR  1989                0.0\n",
      "2767   Lao PDR  1990                0.0\n",
      "3031   Lao PDR  1991                0.0\n",
      "3295   Lao PDR  1992              290.0\n",
      "3559   Lao PDR  1993              340.0\n",
      "3823   Lao PDR  1994              625.0\n",
      "4087   Lao PDR  1995             1539.0\n",
      "4351   Lao PDR  1996             3790.0\n",
      "4615   Lao PDR  1997             4915.0\n",
      "4879   Lao PDR  1998             6453.0\n",
      "5143   Lao PDR  1999            12078.0\n",
      "5407   Lao PDR  2000            12681.0\n",
      "5671   Lao PDR  2001            29545.0\n",
      "5935   Lao PDR  2002            55160.0\n",
      "6199   Lao PDR  2003           112275.0\n",
      "6463   Lao PDR  2004           204191.0\n",
      "6727   Lao PDR  2005           657528.0\n",
      "6991   Lao PDR  2006          1009570.0\n",
      "7255   Lao PDR  2007          1478410.0\n",
      "7519   Lao PDR  2008          2022130.0\n",
      "7783   Lao PDR  2009          3234640.0\n",
      "8047   Lao PDR  2010          4003400.0\n",
      "8311   Lao PDR  2011          5480850.0\n",
      "8575   Lao PDR  2012          4300000.0\n",
      "8839   Lao PDR  2013          4612610.0\n",
      "9103   Lao PDR  2014          4618590.0\n",
      "9367   Lao PDR  2015          3727160.0\n",
      "9631   Lao PDR  2016          3958510.0\n",
      "9895   Lao PDR  2017          3711810.0\n",
      "10159  Lao PDR  2018          3662340.0\n",
      "10423  Lao PDR  2019          4362180.0\n"
     ]
    }
   ],
   "source": [
    "#Slice from Laos from index\n",
    "lao_mob_cell_subs = mobile_cell_subs_merge.loc[mobile_cell_subs_merge['Country'].isin(['Lao PDR'])]\n",
    "print(lao_mob_cell_subs)"
   ]
  },
  {
   "cell_type": "code",
   "execution_count": 65,
   "id": "serial-columbus",
   "metadata": {
    "scrolled": false
   },
   "outputs": [
    {
     "name": "stdout",
     "output_type": "stream",
     "text": [
      "                  Country  year  total_subscribers\n",
      "0                   Japan  1980       0.000000e+00\n",
      "120           Philippines  1980       0.000000e+00\n",
      "280  Hong Kong SAR, China  1980       0.000000e+00\n",
      "281  Hong Kong SAR, China  1981       0.000000e+00\n",
      "282  Hong Kong SAR, China  1982       0.000000e+00\n",
      "..                    ...   ...                ...\n",
      "355                 China  2015       1.291980e+09\n",
      "356                 China  2016       1.364930e+09\n",
      "357                 China  2017       1.469880e+09\n",
      "358                 China  2018       1.641150e+09\n",
      "359                 China  2019       1.725700e+09\n",
      "\n",
      "[440 rows x 3 columns]\n"
     ]
    }
   ],
   "source": [
    "#Join all six sliced countries into on dataframe and sort values\n",
    "country6 = [jpn_mob_cell_subs, kor_mob_cell_subs, idn_mob_cell_subs, phl_mob_cell_subs, tha_mob_cell_subs,\n",
    "      vnm_mob_cell_subs, mys_mob_cell_subs, hkg_mob_cell_subs, ch_mob_cell_subs, mmr_mob_cell_subs, lao_mob_cell_subs]\n",
    "e_asia_mob_cell_subs = reduce(lambda  left,right: pd.merge(left,right,on=['Country', 'year', 'total_subscribers'],\n",
    "                                            how='outer'), country6).sort_values('total_subscribers')\n",
    "print(e_asia_mob_cell_subs)"
   ]
  },
  {
   "cell_type": "code",
   "execution_count": 66,
   "id": "55b7d2c4",
   "metadata": {},
   "outputs": [
    {
     "name": "stdout",
     "output_type": "stream",
     "text": [
      "                  Country  year  total_subscribers\n",
      "0                   Japan  1980       0.000000e+00\n",
      "120           Philippines  1980       0.000000e+00\n",
      "280  Hong Kong SAR, China  1980       0.000000e+00\n",
      "281  Hong Kong SAR, China  1981       0.000000e+00\n",
      "282  Hong Kong SAR, China  1982       0.000000e+00\n",
      "..                    ...   ...                ...\n",
      "355                 China  2015       1.291980e+09\n",
      "356                 China  2016       1.364930e+09\n",
      "357                 China  2017       1.469880e+09\n",
      "358                 China  2018       1.641150e+09\n",
      "359                 China  2019       1.725700e+09\n",
      "\n",
      "[440 rows x 3 columns]\n"
     ]
    }
   ],
   "source": [
    "#Drop NaN from 'year' 2020 for coherency of data before train set and test data\n",
    "e_asia_mob_cell_subs.dropna(subset=['total_subscribers'], inplace=True)\n",
    "print(e_asia_mob_cell_subs)"
   ]
  },
  {
   "cell_type": "code",
   "execution_count": 67,
   "id": "4405de2f",
   "metadata": {
    "scrolled": true
   },
   "outputs": [
    {
     "name": "stdout",
     "output_type": "stream",
     "text": [
      "year               Country  1980     1981     1982     1983     1984     1985  \\\n",
      "0                    China   0.0      0.0      0.0      0.0      0.0      0.0   \n",
      "1     Hong Kong SAR, China   0.0      0.0      0.0      0.0   1000.0   4400.0   \n",
      "2                Indonesia   0.0      0.0      0.0      0.0   1750.0   2029.0   \n",
      "3                    Japan   0.0  13275.0  19804.0  27198.0  40392.0  61800.0   \n",
      "4              Korea, Rep.   0.0      0.0      0.0      0.0      0.0      0.0   \n",
      "5                  Lao PDR   0.0      0.0      0.0      0.0      0.0      0.0   \n",
      "6                 Malaysia   0.0      0.0      0.0      0.0      0.0      0.0   \n",
      "7                  Myanmar   0.0      0.0      0.0      0.0      0.0      0.0   \n",
      "8              Philippines   0.0      0.0      0.0      0.0      0.0      0.0   \n",
      "9                 Thailand   0.0      0.0      0.0      0.0      0.0      0.0   \n",
      "10                 Vietnam   0.0      0.0      0.0      0.0      0.0      0.0   \n",
      "\n",
      "year     1986      1987      1988  ...         2010         2011  \\\n",
      "0         0.0     700.0    3227.0  ...  859003000.0  986253000.0   \n",
      "1     10000.0   28060.0   51280.0  ...   13793700.0   15292900.0   \n",
      "2      4531.0    6321.0    9008.0  ...  211290000.0  249806000.0   \n",
      "3     95131.0  150773.0  242888.0  ...  123287000.0  132761000.0   \n",
      "4      7090.0   10255.0   20353.0  ...   50767200.0   52506800.0   \n",
      "5         0.0       0.0       0.0  ...    4003400.0    5480850.0   \n",
      "6     10817.0   17411.0   27302.0  ...   33858700.0   36661300.0   \n",
      "7         0.0       0.0       0.0  ...     594000.0    1243620.0   \n",
      "8         0.0       0.0       0.0  ...   83150100.0   94189800.0   \n",
      "9       821.0    5882.0   17563.0  ...   71726300.0   77449000.0   \n",
      "10        0.0       0.0       0.0  ...  111570000.0  127318000.0   \n",
      "\n",
      "year          2012          2013          2014          2015          2016  \\\n",
      "0     1.112160e+09  1.229110e+09  1.286090e+09  1.291980e+09  1.364930e+09   \n",
      "1     1.638750e+07  1.697310e+07  1.695950e+07  1.672440e+07  1.758500e+07   \n",
      "2     2.819640e+08  3.132270e+08  3.255830e+08  3.389480e+08  3.855730e+08   \n",
      "3     1.411290e+08  1.478880e+08  1.578570e+08  1.605600e+08  1.668530e+08   \n",
      "4     5.362440e+07  5.468080e+07  5.729040e+07  5.893510e+07  6.129550e+07   \n",
      "5     4.300000e+06  4.612610e+06  4.618590e+06  3.727160e+06  3.958510e+06   \n",
      "6     4.132470e+07  4.300500e+07  4.492860e+07  4.410400e+07  4.346500e+07   \n",
      "7     3.729620e+06  6.832380e+06  2.902930e+07  4.099370e+07  5.058640e+07   \n",
      "8     1.019780e+08  1.028240e+08  1.113260e+08  1.178380e+08  1.200970e+08   \n",
      "9     8.501200e+07  9.384900e+07  9.709600e+07  1.029420e+08  1.196690e+08   \n",
      "10    1.316740e+08  1.237360e+08  1.361480e+08  1.203240e+08  1.206000e+08   \n",
      "\n",
      "year          2017          2018          2019  \n",
      "0     1.469880e+09  1.641150e+09  1.725700e+09  \n",
      "1     1.839480e+07  1.912420e+07  2.145570e+07  \n",
      "2     4.351940e+08  3.207700e+08  3.450250e+08  \n",
      "3     1.727900e+08  1.770670e+08  1.770670e+08  \n",
      "4     6.365870e+07  6.635580e+07  6.889250e+07  \n",
      "5     3.711810e+06  3.662340e+06  4.362180e+06  \n",
      "6     4.233850e+07  4.241340e+07  4.460140e+07  \n",
      "7     4.794670e+07  6.114400e+07  6.114400e+07  \n",
      "8     1.158250e+08  1.158250e+08  1.673220e+08  \n",
      "9     1.215300e+08  1.250980e+08  1.296140e+08  \n",
      "10    1.200160e+08  1.406390e+08  1.362300e+08  \n",
      "\n",
      "[11 rows x 41 columns]\n"
     ]
    }
   ],
   "source": [
    "#Reformat data to wide-form for target and feature for model\n",
    "e_asia_mob_cell_subs1 = pd.pivot(data=e_asia_mob_cell_subs,index='Country',columns='year',\n",
    "                                 values='total_subscribers').reset_index()\n",
    "\n",
    "print(e_asia_mob_cell_subs1)"
   ]
  },
  {
   "cell_type": "code",
   "execution_count": 68,
   "id": "0fec1407",
   "metadata": {},
   "outputs": [
    {
     "name": "stdout",
     "output_type": "stream",
     "text": [
      "                 Country  1980     1981     1982     1983     1984     1985  \\\n",
      "0                  China   0.0      0.0      0.0      0.0      0.0      0.0   \n",
      "1   Hong Kong SAR, China   0.0      0.0      0.0      0.0   1000.0   4400.0   \n",
      "2              Indonesia   0.0      0.0      0.0      0.0   1750.0   2029.0   \n",
      "3                  Japan   0.0  13275.0  19804.0  27198.0  40392.0  61800.0   \n",
      "4            Korea, Rep.   0.0      0.0      0.0      0.0      0.0      0.0   \n",
      "5                Lao PDR   0.0      0.0      0.0      0.0      0.0      0.0   \n",
      "6               Malaysia   0.0      0.0      0.0      0.0      0.0      0.0   \n",
      "7                Myanmar   0.0      0.0      0.0      0.0      0.0      0.0   \n",
      "8            Philippines   0.0      0.0      0.0      0.0      0.0      0.0   \n",
      "9               Thailand   0.0      0.0      0.0      0.0      0.0      0.0   \n",
      "10               Vietnam   0.0      0.0      0.0      0.0      0.0      0.0   \n",
      "\n",
      "       1986      1987      1988  ...         2010         2011          2012  \\\n",
      "0       0.0     700.0    3227.0  ...  859003000.0  986253000.0  1.112160e+09   \n",
      "1   10000.0   28060.0   51280.0  ...   13793700.0   15292900.0  1.638750e+07   \n",
      "2    4531.0    6321.0    9008.0  ...  211290000.0  249806000.0  2.819640e+08   \n",
      "3   95131.0  150773.0  242888.0  ...  123287000.0  132761000.0  1.411290e+08   \n",
      "4    7090.0   10255.0   20353.0  ...   50767200.0   52506800.0  5.362440e+07   \n",
      "5       0.0       0.0       0.0  ...    4003400.0    5480850.0  4.300000e+06   \n",
      "6   10817.0   17411.0   27302.0  ...   33858700.0   36661300.0  4.132470e+07   \n",
      "7       0.0       0.0       0.0  ...     594000.0    1243620.0  3.729620e+06   \n",
      "8       0.0       0.0       0.0  ...   83150100.0   94189800.0  1.019780e+08   \n",
      "9     821.0    5882.0   17563.0  ...   71726300.0   77449000.0  8.501200e+07   \n",
      "10      0.0       0.0       0.0  ...  111570000.0  127318000.0  1.316740e+08   \n",
      "\n",
      "            2013          2014          2015          2016          2017  \\\n",
      "0   1.229110e+09  1.286090e+09  1.291980e+09  1.364930e+09  1.469880e+09   \n",
      "1   1.697310e+07  1.695950e+07  1.672440e+07  1.758500e+07  1.839480e+07   \n",
      "2   3.132270e+08  3.255830e+08  3.389480e+08  3.855730e+08  4.351940e+08   \n",
      "3   1.478880e+08  1.578570e+08  1.605600e+08  1.668530e+08  1.727900e+08   \n",
      "4   5.468080e+07  5.729040e+07  5.893510e+07  6.129550e+07  6.365870e+07   \n",
      "5   4.612610e+06  4.618590e+06  3.727160e+06  3.958510e+06  3.711810e+06   \n",
      "6   4.300500e+07  4.492860e+07  4.410400e+07  4.346500e+07  4.233850e+07   \n",
      "7   6.832380e+06  2.902930e+07  4.099370e+07  5.058640e+07  4.794670e+07   \n",
      "8   1.028240e+08  1.113260e+08  1.178380e+08  1.200970e+08  1.158250e+08   \n",
      "9   9.384900e+07  9.709600e+07  1.029420e+08  1.196690e+08  1.215300e+08   \n",
      "10  1.237360e+08  1.361480e+08  1.203240e+08  1.206000e+08  1.200160e+08   \n",
      "\n",
      "            2018          2019  \n",
      "0   1.641150e+09  1.725700e+09  \n",
      "1   1.912420e+07  2.145570e+07  \n",
      "2   3.207700e+08  3.450250e+08  \n",
      "3   1.770670e+08  1.770670e+08  \n",
      "4   6.635580e+07  6.889250e+07  \n",
      "5   3.662340e+06  4.362180e+06  \n",
      "6   4.241340e+07  4.460140e+07  \n",
      "7   6.114400e+07  6.114400e+07  \n",
      "8   1.158250e+08  1.673220e+08  \n",
      "9   1.250980e+08  1.296140e+08  \n",
      "10  1.406390e+08  1.362300e+08  \n",
      "\n",
      "[11 rows x 41 columns]\n"
     ]
    }
   ],
   "source": [
    "#Remove 'year' from index column\n",
    "e_asia_mob_cell_subs1 = e_asia_mob_cell_subs1.rename_axis(None, axis=1)\n",
    "print(e_asia_mob_cell_subs1)"
   ]
  },
  {
   "cell_type": "code",
   "execution_count": 69,
   "id": "154797c5",
   "metadata": {},
   "outputs": [
    {
     "name": "stdout",
     "output_type": "stream",
     "text": [
      "Country     object\n",
      "1980       float64\n",
      "1981       float64\n",
      "1982       float64\n",
      "1983       float64\n",
      "1984       float64\n",
      "1985       float64\n",
      "1986       float64\n",
      "1987       float64\n",
      "1988       float64\n",
      "1989       float64\n",
      "1990       float64\n",
      "1991       float64\n",
      "1992       float64\n",
      "1993       float64\n",
      "1994       float64\n",
      "1995       float64\n",
      "1996       float64\n",
      "1997       float64\n",
      "1998       float64\n",
      "1999       float64\n",
      "2000       float64\n",
      "2001       float64\n",
      "2002       float64\n",
      "2003       float64\n",
      "2004       float64\n",
      "2005       float64\n",
      "2006       float64\n",
      "2007       float64\n",
      "2008       float64\n",
      "2009       float64\n",
      "2010       float64\n",
      "2011       float64\n",
      "2012       float64\n",
      "2013       float64\n",
      "2014       float64\n",
      "2015       float64\n",
      "2016       float64\n",
      "2017       float64\n",
      "2018       float64\n",
      "2019       float64\n",
      "dtype: object\n"
     ]
    }
   ],
   "source": [
    "#Check dtypes\n",
    "print(e_asia_mob_cell_subs1.dtypes)"
   ]
  },
  {
   "cell_type": "code",
   "execution_count": 70,
   "id": "6fcb6856",
   "metadata": {},
   "outputs": [
    {
     "name": "stdout",
     "output_type": "stream",
     "text": [
      "1980            0.0\n",
      "1981            0.0\n",
      "1982            0.0\n",
      "1983            0.0\n",
      "1984          500.0\n",
      "1985         1014.5\n",
      "1986         8545.0\n",
      "1987        13833.0\n",
      "1988        23827.5\n",
      "1989        39827.0\n",
      "1990        83312.5\n",
      "1991       135790.0\n",
      "1992       223781.0\n",
      "1993       413921.5\n",
      "1994       803508.5\n",
      "1995      1352488.5\n",
      "1996      2197096.5\n",
      "1997      4016010.0\n",
      "1998      7952225.0\n",
      "1999     12584054.5\n",
      "2000     14713100.5\n",
      "2001     17088620.0\n",
      "2002     20747140.0\n",
      "2003     23005100.0\n",
      "2004     28174020.0\n",
      "2005     33557420.0\n",
      "2006     39167630.0\n",
      "2007     58316550.0\n",
      "2008     72987100.0\n",
      "2009     85888900.0\n",
      "2010     93602300.0\n",
      "2011    104062400.0\n",
      "2012    107545400.0\n",
      "2013    105822950.0\n",
      "2014    110023550.0\n",
      "2015     97893150.0\n",
      "2016     96700800.0\n",
      "2017    102017400.0\n",
      "2018    107074300.0\n",
      "2019    119321800.0\n",
      "dtype: float64\n"
     ]
    }
   ],
   "source": [
    "#Identify outliers using InterQuartile Range (IQR)\n",
    "Q1 = e_asia_mob_cell_subs1.quantile(0.25)\n",
    "Q3 = e_asia_mob_cell_subs1.quantile(0.75)\n",
    "IQR = Q3 - Q1\n",
    "print(IQR)"
   ]
  },
  {
   "cell_type": "code",
   "execution_count": 71,
   "id": "58afb3d9",
   "metadata": {},
   "outputs": [
    {
     "name": "stdout",
     "output_type": "stream",
     "text": [
      "1980           0.00\n",
      "1981           0.00\n",
      "1982           0.00\n",
      "1983           0.00\n",
      "1984           0.00\n",
      "1985           0.00\n",
      "1986           0.00\n",
      "1987           0.00\n",
      "1988           0.00\n",
      "1989           0.00\n",
      "1990           0.00\n",
      "1991       18396.00\n",
      "1992       27259.50\n",
      "1993       43123.50\n",
      "1994       67893.00\n",
      "1995      175607.25\n",
      "1996      473570.25\n",
      "1997      807472.50\n",
      "1998      966390.00\n",
      "1999     1912230.75\n",
      "2000     2883419.25\n",
      "2001     5270670.00\n",
      "2002     6223590.00\n",
      "2003     7568400.00\n",
      "2004     9880470.00\n",
      "2005    13603095.00\n",
      "2006    21252480.00\n",
      "2007    25573950.00\n",
      "2008    29469825.00\n",
      "2009    32055900.00\n",
      "2010    35739300.00\n",
      "2011    38965650.00\n",
      "2012    43284150.00\n",
      "2013    44983575.00\n",
      "2014    55468425.00\n",
      "2015    63823275.00\n",
      "2016    70538550.00\n",
      "2017    67713900.00\n",
      "2018    77668050.00\n",
      "2019    79309050.00\n",
      "Name: 0.25, dtype: float64\n"
     ]
    }
   ],
   "source": [
    "#Find lower bound for IQR\n",
    "low_iqr = Q1*1.5\n",
    "print(low_iqr)"
   ]
  },
  {
   "cell_type": "code",
   "execution_count": 72,
   "id": "6d6c7965",
   "metadata": {},
   "outputs": [
    {
     "name": "stdout",
     "output_type": "stream",
     "text": [
      "1980    0.000000e+00\n",
      "1981    0.000000e+00\n",
      "1982    0.000000e+00\n",
      "1983    0.000000e+00\n",
      "1984    7.500000e+02\n",
      "1985    1.521750e+03\n",
      "1986    1.281750e+04\n",
      "1987    2.074950e+04\n",
      "1988    3.574125e+04\n",
      "1989    5.974050e+04\n",
      "1990    1.249688e+05\n",
      "1991    2.220810e+05\n",
      "1992    3.629310e+05\n",
      "1993    6.640058e+05\n",
      "1994    1.273156e+06\n",
      "1995    2.204340e+06\n",
      "1996    3.769215e+06\n",
      "1997    6.831488e+06\n",
      "1998    1.289473e+07\n",
      "1999    2.078831e+07\n",
      "2000    2.495307e+07\n",
      "2001    3.090360e+07\n",
      "2002    3.734430e+07\n",
      "2003    4.207605e+07\n",
      "2004    5.214150e+07\n",
      "2005    6.393922e+07\n",
      "2006    8.000392e+07\n",
      "2007    1.130488e+08\n",
      "2008    1.389505e+08\n",
      "2009    1.608892e+08\n",
      "2010    1.761428e+08\n",
      "2011    1.950592e+08\n",
      "2012    2.046022e+08\n",
      "2013    2.037180e+08\n",
      "2014    2.205038e+08\n",
      "2015    2.106630e+08\n",
      "2016    2.155898e+08\n",
      "2017    2.207400e+08\n",
      "2018    2.382795e+08\n",
      "2019    2.582918e+08\n",
      "Name: 0.75, dtype: float64\n"
     ]
    }
   ],
   "source": [
    "#Find upper bound for IQR\n",
    "high_iqr = Q3*1.5\n",
    "print(high_iqr)"
   ]
  },
  {
   "cell_type": "code",
   "execution_count": 73,
   "id": "42c02b9c",
   "metadata": {},
   "outputs": [
    {
     "name": "stdout",
     "output_type": "stream",
     "text": [
      "     1980   1981   1982   1983   1984   1985   1986   1987   1988   1989  ...  \\\n",
      "0   False  False  False  False  False  False  False  False  False  False  ...   \n",
      "1   False  False  False  False  False   True  False  False  False  False  ...   \n",
      "2   False  False  False  False   True  False  False  False  False  False  ...   \n",
      "3   False   True   True   True   True   True   True   True   True   True  ...   \n",
      "4   False  False  False  False  False  False  False  False  False  False  ...   \n",
      "5   False  False  False  False  False  False  False  False  False  False  ...   \n",
      "6   False  False  False  False  False  False  False  False  False  False  ...   \n",
      "7   False  False  False  False  False  False  False  False  False  False  ...   \n",
      "8   False  False  False  False  False  False  False  False  False  False  ...   \n",
      "9   False  False  False  False  False  False  False  False  False  False  ...   \n",
      "10  False  False  False  False  False  False  False  False  False  False  ...   \n",
      "\n",
      "     2011   2012   2013   2014   2015   2016   2017   2018   2019  Country  \n",
      "0    True   True   True   True   True   True   True   True   True    False  \n",
      "1   False  False  False  False  False  False  False  False  False    False  \n",
      "2   False  False   True   True   True   True   True   True  False    False  \n",
      "3   False  False  False  False  False  False  False  False  False    False  \n",
      "4   False  False  False  False  False  False  False  False  False    False  \n",
      "5   False  False  False  False  False  False  False  False  False    False  \n",
      "6   False  False  False  False  False  False  False  False  False    False  \n",
      "7   False  False  False  False  False  False  False  False  False    False  \n",
      "8   False  False  False  False  False  False  False  False  False    False  \n",
      "9   False  False  False  False  False  False  False  False  False    False  \n",
      "10  False  False  False  False  False  False  False  False  False    False  \n",
      "\n",
      "[11 rows x 41 columns]\n"
     ]
    },
    {
     "name": "stderr",
     "output_type": "stream",
     "text": [
      "<ipython-input-73-9e9745ffa5fb>:2: FutureWarning: Automatic reindexing on DataFrame vs Series comparisons is deprecated and will raise ValueError in a future version.  Do `left, right = left.align(right, axis=1, copy=False)` before e.g. `left == right`\n",
      "  tru_fals_outliers = (e_asia_mob_cell_subs1 < (Q1-1.5*IQR)) | (e_asia_mob_cell_subs1 > (Q3+1.5*IQR))\n",
      "<ipython-input-73-9e9745ffa5fb>:2: FutureWarning: Automatic reindexing on DataFrame vs Series comparisons is deprecated and will raise ValueError in a future version.  Do `left, right = left.align(right, axis=1, copy=False)` before e.g. `left == right`\n",
      "  tru_fals_outliers = (e_asia_mob_cell_subs1 < (Q1-1.5*IQR)) | (e_asia_mob_cell_subs1 > (Q3+1.5*IQR))\n"
     ]
    }
   ],
   "source": [
    "#Print True and False values to find outliers\n",
    "tru_fals_outliers = (e_asia_mob_cell_subs1 < (Q1-1.5*IQR)) | (e_asia_mob_cell_subs1 > (Q3+1.5*IQR))\n",
    "print(tru_fals_outliers)"
   ]
  },
  {
   "cell_type": "code",
   "execution_count": 74,
   "id": "2c4af8a3",
   "metadata": {},
   "outputs": [
    {
     "name": "stdout",
     "output_type": "stream",
     "text": [
      "                  Country  year  total_subscribers\n",
      "0                   China  1980                0.0\n",
      "1    Hong Kong SAR, China  1980                0.0\n",
      "2               Indonesia  1980                0.0\n",
      "3                   Japan  1980                0.0\n",
      "4             Korea, Rep.  1980                0.0\n",
      "..                    ...   ...                ...\n",
      "435              Malaysia  2019         44601400.0\n",
      "436               Myanmar  2019         61144000.0\n",
      "437           Philippines  2019        167322000.0\n",
      "438              Thailand  2019        129614000.0\n",
      "439               Vietnam  2019        136230000.0\n",
      "\n",
      "[440 rows x 3 columns]\n"
     ]
    }
   ],
   "source": [
    "#Turn DataFrame from wide-form to long-form\n",
    "e_asia_iqr_boxplot = e_asia_mob_cell_subs1.melt(id_vars=['Country'], var_name='year', \n",
    "                                                value_name='total_subscribers')\n",
    "print(e_asia_iqr_boxplot)"
   ]
  },
  {
   "cell_type": "code",
   "execution_count": 75,
   "id": "5fc5317f",
   "metadata": {},
   "outputs": [
    {
     "name": "stdout",
     "output_type": "stream",
     "text": [
      "                  Country  year  total_subscribers\n",
      "143                 China  1993           638000.0\n",
      "144  Hong Kong SAR, China  1993           290843.0\n",
      "145             Indonesia  1993            53438.0\n",
      "146                 Japan  1993          2131370.0\n",
      "147           Korea, Rep.  1993           471784.0\n",
      "..                    ...   ...                ...\n",
      "435              Malaysia  2019         44601400.0\n",
      "436               Myanmar  2019         61144000.0\n",
      "437           Philippines  2019        167322000.0\n",
      "438              Thailand  2019        129614000.0\n",
      "439               Vietnam  2019        136230000.0\n",
      "\n",
      "[297 rows x 3 columns]\n"
     ]
    }
   ],
   "source": [
    "#Select 'year' when most countries had some subscribers\n",
    "iqr_93_19 = e_asia_iqr_boxplot[e_asia_iqr_boxplot['year'].astype(int)>1992]\n",
    "print(iqr_93_19)"
   ]
  },
  {
   "cell_type": "code",
   "execution_count": 76,
   "id": "95b0cc68",
   "metadata": {},
   "outputs": [
    {
     "data": {
      "image/png": "[encoded data removed]",
      "text/plain": [
       "<Figure size 1368x1008 with 1 Axes>"
      ]
     },
     "metadata": {},
     "output_type": "display_data"
    }
   ],
   "source": [
    "#Plot Outliers using Boxplot\n",
    "flierprops = dict(markerfacecolor='0.70', markersize=4,\n",
    "              linestyle='none')\n",
    "ax = sns.set(rc={'figure.figsize':(19,14)}, font_scale=2.0, style='whitegrid')\n",
    "ax = sns.boxplot(x=\"year\", y=\"total_subscribers\", data=iqr_93_19, width=0.6, dodge=False, \n",
    "                 linewidth=2.0, flierprops=flierprops)\n",
    "ax.set_xticklabels(ax.get_xticklabels(),rotation=90)\n",
    "ax.set_title('Outliers 1993 - 2019')\n",
    "sns.despine(left=True)\n",
    "plt.show()"
   ]
  },
  {
   "cell_type": "code",
   "execution_count": 77,
   "id": "3a76ade9",
   "metadata": {},
   "outputs": [
    {
     "name": "stdout",
     "output_type": "stream",
     "text": [
      "    Country  1980     1981     1982     1983     1984     1985     1986  \\\n",
      "0         0   0.0      0.0      0.0      0.0      0.0      0.0      0.0   \n",
      "1         1   0.0      0.0      0.0      0.0   1000.0   4400.0  10000.0   \n",
      "2         2   0.0      0.0      0.0      0.0   1750.0   2029.0   4531.0   \n",
      "3         3   0.0  13275.0  19804.0  27198.0  40392.0  61800.0  95131.0   \n",
      "4         4   0.0      0.0      0.0      0.0      0.0      0.0   7090.0   \n",
      "5         5   0.0      0.0      0.0      0.0      0.0      0.0      0.0   \n",
      "6         6   0.0      0.0      0.0      0.0      0.0      0.0  10817.0   \n",
      "7         7   0.0      0.0      0.0      0.0      0.0      0.0      0.0   \n",
      "8         8   0.0      0.0      0.0      0.0      0.0      0.0      0.0   \n",
      "9         9   0.0      0.0      0.0      0.0      0.0      0.0    821.0   \n",
      "10       10   0.0      0.0      0.0      0.0      0.0      0.0      0.0   \n",
      "\n",
      "        1987      1988  ...         2010         2011          2012  \\\n",
      "0      700.0    3227.0  ...  859003000.0  986253000.0  1.112160e+09   \n",
      "1    28060.0   51280.0  ...   13793700.0   15292900.0  1.638750e+07   \n",
      "2     6321.0    9008.0  ...  211290000.0  249806000.0  2.819640e+08   \n",
      "3   150773.0  242888.0  ...  123287000.0  132761000.0  1.411290e+08   \n",
      "4    10255.0   20353.0  ...   50767200.0   52506800.0  5.362440e+07   \n",
      "5        0.0       0.0  ...    4003400.0    5480850.0  4.300000e+06   \n",
      "6    17411.0   27302.0  ...   33858700.0   36661300.0  4.132470e+07   \n",
      "7        0.0       0.0  ...     594000.0    1243620.0  3.729620e+06   \n",
      "8        0.0       0.0  ...   83150100.0   94189800.0  1.019780e+08   \n",
      "9     5882.0   17563.0  ...   71726300.0   77449000.0  8.501200e+07   \n",
      "10       0.0       0.0  ...  111570000.0  127318000.0  1.316740e+08   \n",
      "\n",
      "            2013          2014          2015          2016          2017  \\\n",
      "0   1.229110e+09  1.286090e+09  1.291980e+09  1.364930e+09  1.469880e+09   \n",
      "1   1.697310e+07  1.695950e+07  1.672440e+07  1.758500e+07  1.839480e+07   \n",
      "2   3.132270e+08  3.255830e+08  3.389480e+08  3.855730e+08  4.351940e+08   \n",
      "3   1.478880e+08  1.578570e+08  1.605600e+08  1.668530e+08  1.727900e+08   \n",
      "4   5.468080e+07  5.729040e+07  5.893510e+07  6.129550e+07  6.365870e+07   \n",
      "5   4.612610e+06  4.618590e+06  3.727160e+06  3.958510e+06  3.711810e+06   \n",
      "6   4.300500e+07  4.492860e+07  4.410400e+07  4.346500e+07  4.233850e+07   \n",
      "7   6.832380e+06  2.902930e+07  4.099370e+07  5.058640e+07  4.794670e+07   \n",
      "8   1.028240e+08  1.113260e+08  1.178380e+08  1.200970e+08  1.158250e+08   \n",
      "9   9.384900e+07  9.709600e+07  1.029420e+08  1.196690e+08  1.215300e+08   \n",
      "10  1.237360e+08  1.361480e+08  1.203240e+08  1.206000e+08  1.200160e+08   \n",
      "\n",
      "            2018          2019  \n",
      "0   1.641150e+09  1.725700e+09  \n",
      "1   1.912420e+07  2.145570e+07  \n",
      "2   3.207700e+08  3.450250e+08  \n",
      "3   1.770670e+08  1.770670e+08  \n",
      "4   6.635580e+07  6.889250e+07  \n",
      "5   3.662340e+06  4.362180e+06  \n",
      "6   4.241340e+07  4.460140e+07  \n",
      "7   6.114400e+07  6.114400e+07  \n",
      "8   1.158250e+08  1.673220e+08  \n",
      "9   1.250980e+08  1.296140e+08  \n",
      "10  1.406390e+08  1.362300e+08  \n",
      "\n",
      "[11 rows x 41 columns]\n"
     ]
    }
   ],
   "source": [
    "#Convert 'Country' column to categorical variable\n",
    "labelencoder= LabelEncoder()\n",
    "e_asia_mob_cell_subs1['Country'] = labelencoder.fit_transform(e_asia_mob_cell_subs1['Country'])\n",
    "print(e_asia_mob_cell_subs1)"
   ]
  },
  {
   "cell_type": "code",
   "execution_count": 78,
   "id": "25fca740",
   "metadata": {},
   "outputs": [],
   "source": [
    "#Split data into train and test sets\n",
    "X1 = e_asia_mob_cell_subs1.iloc[0:, 1:40]\n",
    "y1 = e_asia_mob_cell_subs1['2019']"
   ]
  },
  {
   "cell_type": "code",
   "execution_count": 79,
   "id": "1d095993",
   "metadata": {},
   "outputs": [
    {
     "name": "stdout",
     "output_type": "stream",
     "text": [
      "(11, 39) (11,)\n"
     ]
    }
   ],
   "source": [
    "#Get shape for X1, y1\n",
    "print(X1.shape, y1.shape)"
   ]
  },
  {
   "cell_type": "code",
   "execution_count": 80,
   "id": "7af528d7",
   "metadata": {},
   "outputs": [
    {
     "name": "stdout",
     "output_type": "stream",
     "text": [
      "[-3.31829510e+08 -2.45874626e+06 -1.88589354e+08 -3.33103164e+05\n",
      " -1.94865806e+07 -5.99132445e+05 -1.93707842e+07 -3.64008663e+07\n",
      " -4.86842382e+07 -4.97063173e+07 -8.97838047e+07]\n"
     ]
    }
   ],
   "source": [
    "#Validate data\n",
    "cv = LeaveOneOut()\n",
    "regressor = LinearRegression()\n",
    "scores = cross_val_score(regressor, X1, y1, cv=len(X1), n_jobs=-1, scoring='neg_mean_absolute_error')\n",
    "print(scores)"
   ]
  },
  {
   "cell_type": "code",
   "execution_count": 81,
   "id": "2a8ac842",
   "metadata": {},
   "outputs": [
    {
     "data": {
      "text/plain": [
       "8459.757345998503"
      ]
     },
     "execution_count": 81,
     "metadata": {},
     "output_type": "execute_result"
    }
   ],
   "source": [
    "#Get square root\n",
    "sqrt(mean(absolute(scores)))"
   ]
  },
  {
   "cell_type": "code",
   "execution_count": 82,
   "id": "e892f11f",
   "metadata": {},
   "outputs": [],
   "source": [
    "#Split data into 70:30 ratio\n",
    "X_train, X_test, y_train, y_test, = train_test_split(X1, y1, test_size=0.3, random_state=42)"
   ]
  },
  {
   "cell_type": "code",
   "execution_count": 83,
   "id": "eadc17b4",
   "metadata": {},
   "outputs": [
    {
     "data": {
      "text/plain": [
       "DummyRegressor()"
      ]
     },
     "execution_count": 83,
     "metadata": {},
     "output_type": "execute_result"
    }
   ],
   "source": [
    "#Create baseline predictions for mean\n",
    "base_med = DummyRegressor(strategy='mean')\n",
    "base_med.fit(X_train, y_train)"
   ]
  },
  {
   "cell_type": "code",
   "execution_count": 84,
   "id": "e44452f3",
   "metadata": {},
   "outputs": [
    {
     "name": "stdout",
     "output_type": "stream",
     "text": [
      "[1.26501086e+08 1.26501086e+08 1.26501086e+08 1.26501086e+08]\n"
     ]
    }
   ],
   "source": [
    "#Predict baseline median\n",
    "y_pred_base_med = base_med.predict(X_test)\n",
    "print(y_pred_base_med)"
   ]
  },
  {
   "cell_type": "code",
   "execution_count": 85,
   "id": "b7ffc5ee",
   "metadata": {},
   "outputs": [
    {
     "data": {
      "text/plain": [
       "LinearRegression()"
      ]
     },
     "execution_count": 85,
     "metadata": {},
     "output_type": "execute_result"
    }
   ],
   "source": [
    "#Fit multiple linear regression model to training data set\n",
    "regressor = LinearRegression()\n",
    "regressor.fit(X_train, y_train)"
   ]
  },
  {
   "cell_type": "code",
   "execution_count": 86,
   "id": "62d41116",
   "metadata": {
    "scrolled": true
   },
   "outputs": [
    {
     "name": "stdout",
     "output_type": "stream",
     "text": [
      "[-2.54241073e-14  3.58257086e-04  5.34457502e-04  7.34001976e-04\n",
      "  1.57749906e-03  3.91170193e-03  6.17751072e-05  6.39399953e-03\n",
      "  1.34592064e-02  2.97543630e-02  2.86965796e-02  4.21372718e-02\n",
      "  2.18889717e-02 -3.73707413e-02 -6.53772020e-02  1.95717565e-02\n",
      "  3.19138397e-01  4.08006591e-01  2.27835558e-01 -3.46254521e-01\n",
      " -3.49472032e-01 -2.87182485e-01 -5.36973439e-01  3.04084236e-01\n",
      "  7.09485241e-01 -2.10686971e+00 -2.93032061e-02  9.75452563e-01\n",
      "  4.49246466e-01  7.70657189e-01 -4.86521013e-02  1.05898368e+00\n",
      "  1.01933350e-01 -1.01530722e+00 -1.02576216e+00  2.66384960e-01\n",
      "  4.54812446e-01 -4.04353116e-01  1.33203240e+00]\n"
     ]
    }
   ],
   "source": [
    "#Get slope of model\n",
    "#coeff = pd.DataFrame(regressor.coef_, X1.columns, columns=['Coefficient'])\n",
    "print(regressor.coef_)"
   ]
  },
  {
   "cell_type": "code",
   "execution_count": 87,
   "id": "b2d73917",
   "metadata": {},
   "outputs": [
    {
     "name": "stdout",
     "output_type": "stream",
     "text": [
      "-364543.4069632739\n"
     ]
    }
   ],
   "source": [
    "#Get intercept of model\n",
    "print(regressor.intercept_)"
   ]
  },
  {
   "cell_type": "code",
   "execution_count": 88,
   "id": "fd549225",
   "metadata": {},
   "outputs": [
    {
     "name": "stdout",
     "output_type": "stream",
     "text": [
      "[5.99845270e+06 1.79620155e+09 1.70419890e+08 2.38088229e+08]\n"
     ]
    }
   ],
   "source": [
    "#Predict model\n",
    "y_pred_test = regressor.predict(X_test)\n",
    "print(y_pred_test)"
   ]
  },
  {
   "cell_type": "code",
   "execution_count": 89,
   "id": "b3c27395",
   "metadata": {},
   "outputs": [
    {
     "name": "stdout",
     "output_type": "stream",
     "text": [
      "0.9915671365065387\n"
     ]
    }
   ],
   "source": [
    "#Get accuracy of model\n",
    "score = regressor.score(X_test, y_test)\n",
    "print(score)"
   ]
  },
  {
   "cell_type": "code",
   "execution_count": 90,
   "id": "66d122ae",
   "metadata": {},
   "outputs": [
    {
     "name": "stdout",
     "output_type": "stream",
     "text": [
      "    Country          2019     Predicted\n",
      "0         0  1.725700e+09  3.450250e+08\n",
      "1         1  2.145570e+07  2.145570e+07\n",
      "2         2  3.450250e+08  1.673220e+08\n",
      "3         3  1.770670e+08  6.889250e+07\n",
      "4         4  6.889250e+07  6.114400e+07\n",
      "5         5  4.362180e+06  1.770670e+08\n",
      "6         6  4.460140e+07  4.460140e+07\n",
      "7         7  6.114400e+07  5.998453e+06\n",
      "8         8  1.673220e+08  1.796202e+09\n",
      "9         9  1.296140e+08  1.704199e+08\n",
      "10       10  1.362300e+08  2.380882e+08\n"
     ]
    }
   ],
   "source": [
    "#Create column based on stacked prediction\n",
    "y_pred_train = regressor.predict(X_train)\n",
    "y_pred_test = regressor.predict(X_test)\n",
    "e_asia_mob_cell_subs1['Predicted'] = np.hstack([y_pred_train, y_pred_test])\n",
    "print(e_asia_mob_cell_subs1[['Country', '2019', 'Predicted']])"
   ]
  },
  {
   "cell_type": "code",
   "execution_count": 91,
   "id": "c417e46e",
   "metadata": {},
   "outputs": [
    {
     "data": {
      "text/plain": [
       "<AxesSubplot:xlabel='Country', ylabel='2019'>"
      ]
     },
     "execution_count": 91,
     "metadata": {},
     "output_type": "execute_result"
    },
    {
     "data": {
      "image/png": "[encoded data removed]",
      "text/plain": [
       "<Figure size 1368x1008 with 1 Axes>"
      ]
     },
     "metadata": {},
     "output_type": "display_data"
    }
   ],
   "source": [
    "#Plot regression using seaborn lmplot/regplot for east asia data\n",
    "sns.set_style('whitegrid')\n",
    "sns.regplot(x = 'Country', y = '2019', data = e_asia_mob_cell_subs1, \n",
    "           fit_reg=True, \n",
    "                truncate=False, scatter_kws={\"s\": 100})"
   ]
  },
  {
   "cell_type": "code",
   "execution_count": 92,
   "id": "2487fa58",
   "metadata": {},
   "outputs": [
    {
     "data": {
      "image/png": "[encoded data removed]",
      "text/plain": [
       "<Figure size 1368x1008 with 1 Axes>"
      ]
     },
     "metadata": {},
     "output_type": "display_data"
    }
   ],
   "source": [
    "#Plot regression for predictions using seaborn\n",
    "#reg_plot = pd.DataFrame({'y_test':y_test, 'Predicted': y_pred_test})\n",
    "sns.set_style('whitegrid')\n",
    "g = sns.regplot(x='Country', y='Predicted', data=e_asia_mob_cell_subs1, fit_reg=True, \n",
    "                truncate=False, scatter_kws={\"s\": 100});\n",
    "sns.despine(left=False)"
   ]
  },
  {
   "cell_type": "code",
   "execution_count": 93,
   "id": "d13044b6",
   "metadata": {},
   "outputs": [],
   "source": [
    "#Filter Western Countries with high population\n",
    "us_mob_cell_subs = mobile_cell_subs_merge.loc[mobile_cell_subs_merge\n",
    "                                              ['Country'].isin(['United States'])]\n",
    "braz_mob_cell_subs = mobile_cell_subs_merge.loc[mobile_cell_subs_merge\n",
    "                                               ['Country'].isin(['Brazil'])]\n",
    "mex_mob_cell_subs = mobile_cell_subs_merge.loc[mobile_cell_subs_merge\n",
    "                                               ['Country'].isin(['Mexico'])]\n",
    "grmn_mob_cell_subs = mex_mob_cell_subs = mobile_cell_subs_merge.loc[mobile_cell_subs_merge\n",
    "                                               ['Country'].isin(['Germany'])]\n",
    "uk_mob_cell_subs = mex_mob_cell_subs = mobile_cell_subs_merge.loc[mobile_cell_subs_merge\n",
    "                                               ['Country'].isin(['United Kingdom'])]\n",
    "fra_mob_cell_subs = mex_mob_cell_subs = mobile_cell_subs_merge.loc[mobile_cell_subs_merge\n",
    "                                               ['Country'].isin(['France'])]\n",
    "it_mob_cell_subs = mex_mob_cell_subs = mobile_cell_subs_merge.loc[mobile_cell_subs_merge\n",
    "                                               ['Country'].isin(['Italy'])]\n",
    "co_mob_cell_subs = mex_mob_cell_subs = mobile_cell_subs_merge.loc[mobile_cell_subs_merge\n",
    "                                               ['Country'].isin(['Colombia'])]\n",
    "es_mob_cell_subs = mex_mob_cell_subs = mobile_cell_subs_merge.loc[mobile_cell_subs_merge\n",
    "                                               ['Country'].isin(['Spain'])]\n",
    "ar_mob_cell_subs = mex_mob_cell_subs = mobile_cell_subs_merge.loc[mobile_cell_subs_merge\n",
    "                                               ['Country'].isin(['Argentina'])]\n",
    "ca_mob_cell_subs = mex_mob_cell_subs = mobile_cell_subs_merge.loc[mobile_cell_subs_merge\n",
    "                                               ['Country'].isin(['Canada'])]\n",
    "pl_mob_cell_subs = mex_mob_cell_subs = mobile_cell_subs_merge.loc[mobile_cell_subs_merge\n",
    "                                               ['Country'].isin(['Poland'])]\n",
    "pe_mob_cell_subs = mex_mob_cell_subs = mobile_cell_subs_merge.loc[mobile_cell_subs_merge\n",
    "                                               ['Country'].isin(['Peru'])]\n",
    "aus_mob_cell_subs = mex_mob_cell_subs = mobile_cell_subs_merge.loc[mobile_cell_subs_merge\n",
    "                                               ['Country'].isin(['Australia'])]"
   ]
  },
  {
   "cell_type": "code",
   "execution_count": 94,
   "id": "357dea95",
   "metadata": {},
   "outputs": [
    {
     "name": "stdout",
     "output_type": "stream",
     "text": [
      "            Country  year  total_subscribers\n",
      "0     United States  1980                0.0\n",
      "442          Poland  1982                0.0\n",
      "441          Poland  1981                0.0\n",
      "440          Poland  1980                0.0\n",
      "160  United Kingdom  1980                0.0\n",
      "..              ...   ...                ...\n",
      "35    United States  2015        382307000.0\n",
      "36    United States  2016        395881000.0\n",
      "37    United States  2017        400206000.0\n",
      "38    United States  2018        404577000.0\n",
      "39    United States  2019        404577000.0\n",
      "\n",
      "[520 rows x 3 columns]\n"
     ]
    }
   ],
   "source": [
    "#Join sliced countries into one dataframe\n",
    "west_countries = [us_mob_cell_subs, braz_mob_cell_subs, mex_mob_cell_subs, grmn_mob_cell_subs, \n",
    "                 uk_mob_cell_subs, fra_mob_cell_subs, it_mob_cell_subs, co_mob_cell_subs, \n",
    "                 es_mob_cell_subs, ar_mob_cell_subs, ca_mob_cell_subs, pl_mob_cell_subs, \n",
    "                 pe_mob_cell_subs, aus_mob_cell_subs]\n",
    "west_mob_cell_subs = reduce(lambda  left,right: pd.merge(left,right,on=['Country', 'year', 'total_subscribers'],\n",
    "                                            how='outer'), west_countries).sort_values('total_subscribers')\n",
    "\n",
    "#Drop NAs from 'total_subscribers' column\n",
    "west_mob_cell_subs.dropna(subset=['total_subscribers'], inplace=True)\n",
    "\n",
    "print(west_mob_cell_subs)"
   ]
  },
  {
   "cell_type": "code",
   "execution_count": 95,
   "id": "806dc890",
   "metadata": {},
   "outputs": [
    {
     "name": "stdout",
     "output_type": "stream",
     "text": [
      "           Country  year  total_subscribers\n",
      "454         Poland  1994            38942.0\n",
      "494           Peru  1994            52200.0\n",
      "495           Peru  1995            73543.0\n",
      "455         Poland  1995            75000.0\n",
      "294       Colombia  1994            86805.0\n",
      "..             ...   ...                ...\n",
      "35   United States  2015        382307000.0\n",
      "36   United States  2016        395881000.0\n",
      "37   United States  2017        400206000.0\n",
      "38   United States  2018        404577000.0\n",
      "39   United States  2019        404577000.0\n",
      "\n",
      "[338 rows x 3 columns]\n"
     ]
    }
   ],
   "source": [
    "#Select 'year' when most countries had some subscribers\n",
    "west_cell_subs_94_19 = west_mob_cell_subs[west_mob_cell_subs['year'].astype(int)>1993]\n",
    "print(west_cell_subs_94_19)"
   ]
  },
  {
   "cell_type": "code",
   "execution_count": 96,
   "id": "71b10a8b",
   "metadata": {},
   "outputs": [
    {
     "data": {
      "image/png": "[encoded data removed]",
      "text/plain": [
       "<Figure size 1368x1008 with 1 Axes>"
      ]
     },
     "metadata": {},
     "output_type": "display_data"
    }
   ],
   "source": [
    "#Plot Outliers using Boxplot\n",
    "flierprops = dict(markerfacecolor='0.70', markersize=4,\n",
    "              linestyle='none')\n",
    "ax = sns.set(rc={'figure.figsize':(19,14)}, font_scale=2.0, style='whitegrid')\n",
    "ax = sns.boxplot(x=\"year\", y=\"total_subscribers\", data=west_cell_subs_94_19, width=0.6, dodge=False, \n",
    "                 linewidth=2.0, flierprops=flierprops)\n",
    "ax.set_xticklabels(ax.get_xticklabels(),rotation=90)\n",
    "ax.set_title('Western Countries Outliers 1994 - 2019')\n",
    "sns.despine(left=True)\n",
    "plt.show()"
   ]
  },
  {
   "cell_type": "code",
   "execution_count": 97,
   "id": "e70809c2",
   "metadata": {},
   "outputs": [
    {
     "name": "stdout",
     "output_type": "stream",
     "text": [
      "           Country  1980  1981  1982  1983     1984      1985      1986  \\\n",
      "0        Argentina   0.0   0.0   0.0   0.0      0.0       0.0       0.0   \n",
      "1        Australia   0.0   0.0   0.0   0.0      0.0       0.0       0.0   \n",
      "2           Brazil   0.0   0.0   0.0   0.0      0.0       0.0       0.0   \n",
      "3           Canada   0.0   0.0   0.0   0.0      0.0   12000.0   60000.0   \n",
      "4         Colombia   0.0   0.0   0.0   0.0      0.0       0.0       0.0   \n",
      "5           France   0.0   0.0   0.0   0.0      0.0       0.0    9055.0   \n",
      "6          Germany   0.0   0.0   0.0   0.0      0.0    1080.0   23800.0   \n",
      "7            Italy   0.0   0.0   0.0   0.0      0.0    6415.0    9044.0   \n",
      "8             Peru   0.0   0.0   0.0   0.0      0.0       0.0       0.0   \n",
      "9           Poland   0.0   0.0   0.0   0.0      0.0       0.0       0.0   \n",
      "10           Spain   0.0   0.0   0.0   0.0      0.0       0.0    1700.0   \n",
      "11  United Kingdom   0.0   0.0   0.0   0.0      0.0   50000.0  130000.0   \n",
      "12   United States   0.0   0.0   0.0   0.0  91600.0  340213.0  681825.0   \n",
      "\n",
      "         1987       1988  ...         2010         2011         2012  \\\n",
      "0         0.0        0.0  ...   57082300.0   60722700.0   64327600.0   \n",
      "1      4423.0    31622.0  ...   22500000.0   23789000.0   24338000.0   \n",
      "2         0.0        0.0  ...  196930000.0  234358000.0  248324000.0   \n",
      "3     98364.0   202633.0  ...   25825400.0   26840000.0   27720000.0   \n",
      "4         0.0        0.0  ...   44477700.0   46200400.0   49066400.0   \n",
      "5     39234.0    98332.0  ...   57785000.0   59816000.0   62260000.0   \n",
      "6     48747.0    98763.0  ...   88400000.0   90900000.0   92400000.0   \n",
      "7     16534.0    33609.0  ...   93666100.0   96040900.0   97188600.0   \n",
      "8         0.0        0.0  ...   29115100.0   32461400.0   29388100.0   \n",
      "9         0.0        0.0  ...   46952100.0   50160200.0   54086200.0   \n",
      "10     4200.0    11628.0  ...   51389400.0   52590500.0   50665100.0   \n",
      "11   290000.0   560000.0  ...   76729800.0   77162300.0   78329400.0   \n",
      "12  1230860.0  2069440.0  ...  285118000.0  297404000.0  304838000.0   \n",
      "\n",
      "           2013         2014         2015         2016         2017  \\\n",
      "0    67361500.0   61234200.0   61842000.0   63719800.0   61897400.0   \n",
      "1    24940000.0   25060000.0   25770000.0   26551000.0   27463000.0   \n",
      "2   271100000.0  280729000.0  257814000.0  244067000.0  218255000.0   \n",
      "3    28360000.0   28789000.0   29765000.0   30752000.0   31693000.0   \n",
      "4    50295100.0   55330300.0   57327500.0   58684900.0   62220000.0   \n",
      "5    63324000.0   65425000.0   66681000.0   67571000.0   69018000.0   \n",
      "6   100034000.0   99530000.0   96360000.0  103470000.0  109736000.0   \n",
      "7    96863100.0   89914600.0   87691200.0   85955900.0   83871500.0   \n",
      "8    29793300.0   31880000.0   34235800.0   36933200.0   38915400.0   \n",
      "9    56972800.0   56905300.0   54537200.0   53001800.0   50458900.0   \n",
      "10   50158700.0   50806300.0   51067800.0   51521500.0   52506900.0   \n",
      "11   78674000.0   78460700.0   79250800.0   78931400.0   79152800.0   \n",
      "12  310698000.0  355500000.0  382307000.0  395881000.0  400206000.0   \n",
      "\n",
      "           2018         2019  \n",
      "0    58598000.0   58606400.0  \n",
      "1    28279000.0   27880000.0  \n",
      "2   207047000.0  207047000.0  \n",
      "3    33082000.0   34615000.0  \n",
      "4    64514000.0   66283200.0  \n",
      "5    70455000.0   72043000.0  \n",
      "6   107500000.0  107200000.0  \n",
      "7    83342500.0   80580500.0  \n",
      "8    38915400.0   38915400.0  \n",
      "9    51098700.0   52268100.0  \n",
      "10   54103500.0   55267600.0  \n",
      "11   78924300.0   78924300.0  \n",
      "12  404577000.0  404577000.0  \n",
      "\n",
      "[13 rows x 41 columns]\n"
     ]
    }
   ],
   "source": [
    "#Reshape data to wide-form data\n",
    "west_mob_cell_subs1 = pd.pivot(data=west_mob_cell_subs,index='Country',columns='year',\n",
    "                                 values='total_subscribers').reset_index()\n",
    "\n",
    "#Remove 'year' from index column\n",
    "west_mob_cell_subs1 = west_mob_cell_subs1.rename_axis(None, axis=1)\n",
    "print(west_mob_cell_subs1)"
   ]
  },
  {
   "cell_type": "code",
   "execution_count": 98,
   "id": "1463bc18",
   "metadata": {},
   "outputs": [
    {
     "name": "stdout",
     "output_type": "stream",
     "text": [
      "    Country  1980  1981  1982  1983     1984      1985      1986       1987  \\\n",
      "0         0   0.0   0.0   0.0   0.0      0.0       0.0       0.0        0.0   \n",
      "1         1   0.0   0.0   0.0   0.0      0.0       0.0       0.0     4423.0   \n",
      "2         2   0.0   0.0   0.0   0.0      0.0       0.0       0.0        0.0   \n",
      "3         3   0.0   0.0   0.0   0.0      0.0   12000.0   60000.0    98364.0   \n",
      "4         4   0.0   0.0   0.0   0.0      0.0       0.0       0.0        0.0   \n",
      "5         5   0.0   0.0   0.0   0.0      0.0       0.0    9055.0    39234.0   \n",
      "6         6   0.0   0.0   0.0   0.0      0.0    1080.0   23800.0    48747.0   \n",
      "7         7   0.0   0.0   0.0   0.0      0.0    6415.0    9044.0    16534.0   \n",
      "8         8   0.0   0.0   0.0   0.0      0.0       0.0       0.0        0.0   \n",
      "9         9   0.0   0.0   0.0   0.0      0.0       0.0       0.0        0.0   \n",
      "10       10   0.0   0.0   0.0   0.0      0.0       0.0    1700.0     4200.0   \n",
      "11       11   0.0   0.0   0.0   0.0      0.0   50000.0  130000.0   290000.0   \n",
      "12       12   0.0   0.0   0.0   0.0  91600.0  340213.0  681825.0  1230860.0   \n",
      "\n",
      "         1988  ...         2010         2011         2012         2013  \\\n",
      "0         0.0  ...   57082300.0   60722700.0   64327600.0   67361500.0   \n",
      "1     31622.0  ...   22500000.0   23789000.0   24338000.0   24940000.0   \n",
      "2         0.0  ...  196930000.0  234358000.0  248324000.0  271100000.0   \n",
      "3    202633.0  ...   25825400.0   26840000.0   27720000.0   28360000.0   \n",
      "4         0.0  ...   44477700.0   46200400.0   49066400.0   50295100.0   \n",
      "5     98332.0  ...   57785000.0   59816000.0   62260000.0   63324000.0   \n",
      "6     98763.0  ...   88400000.0   90900000.0   92400000.0  100034000.0   \n",
      "7     33609.0  ...   93666100.0   96040900.0   97188600.0   96863100.0   \n",
      "8         0.0  ...   29115100.0   32461400.0   29388100.0   29793300.0   \n",
      "9         0.0  ...   46952100.0   50160200.0   54086200.0   56972800.0   \n",
      "10    11628.0  ...   51389400.0   52590500.0   50665100.0   50158700.0   \n",
      "11   560000.0  ...   76729800.0   77162300.0   78329400.0   78674000.0   \n",
      "12  2069440.0  ...  285118000.0  297404000.0  304838000.0  310698000.0   \n",
      "\n",
      "           2014         2015         2016         2017         2018  \\\n",
      "0    61234200.0   61842000.0   63719800.0   61897400.0   58598000.0   \n",
      "1    25060000.0   25770000.0   26551000.0   27463000.0   28279000.0   \n",
      "2   280729000.0  257814000.0  244067000.0  218255000.0  207047000.0   \n",
      "3    28789000.0   29765000.0   30752000.0   31693000.0   33082000.0   \n",
      "4    55330300.0   57327500.0   58684900.0   62220000.0   64514000.0   \n",
      "5    65425000.0   66681000.0   67571000.0   69018000.0   70455000.0   \n",
      "6    99530000.0   96360000.0  103470000.0  109736000.0  107500000.0   \n",
      "7    89914600.0   87691200.0   85955900.0   83871500.0   83342500.0   \n",
      "8    31880000.0   34235800.0   36933200.0   38915400.0   38915400.0   \n",
      "9    56905300.0   54537200.0   53001800.0   50458900.0   51098700.0   \n",
      "10   50806300.0   51067800.0   51521500.0   52506900.0   54103500.0   \n",
      "11   78460700.0   79250800.0   78931400.0   79152800.0   78924300.0   \n",
      "12  355500000.0  382307000.0  395881000.0  400206000.0  404577000.0   \n",
      "\n",
      "           2019  \n",
      "0    58606400.0  \n",
      "1    27880000.0  \n",
      "2   207047000.0  \n",
      "3    34615000.0  \n",
      "4    66283200.0  \n",
      "5    72043000.0  \n",
      "6   107200000.0  \n",
      "7    80580500.0  \n",
      "8    38915400.0  \n",
      "9    52268100.0  \n",
      "10   55267600.0  \n",
      "11   78924300.0  \n",
      "12  404577000.0  \n",
      "\n",
      "[13 rows x 41 columns]\n"
     ]
    }
   ],
   "source": [
    "#Convert 'Country' column to categorical variable\n",
    "labelencoder= LabelEncoder()\n",
    "west_mob_cell_subs1['Country'] = labelencoder.fit_transform(west_mob_cell_subs1['Country'])\n",
    "print(west_mob_cell_subs1)"
   ]
  },
  {
   "cell_type": "code",
   "execution_count": 99,
   "id": "372d07c4",
   "metadata": {},
   "outputs": [],
   "source": [
    "#Separate feature and target variables fro train and test\n",
    "X2 = west_mob_cell_subs1.iloc[0:, 1:40]\n",
    "y2 = west_mob_cell_subs1['2019']"
   ]
  },
  {
   "cell_type": "code",
   "execution_count": 100,
   "id": "baefe763",
   "metadata": {},
   "outputs": [
    {
     "data": {
      "text/plain": [
       "array([   -82481.15416557,  -2740898.05583773, -12025052.0436582 ,\n",
       "        -2472514.91170541,  -1053187.8517882 ,  -1743949.43051213,\n",
       "        -7464730.87647028,  -1139335.81351683,  -3355058.3112918 ,\n",
       "         -851366.76276833,  -2488974.85574519,  -3776919.799054  ,\n",
       "        -2893427.7478652 ])"
      ]
     },
     "execution_count": 100,
     "metadata": {},
     "output_type": "execute_result"
    }
   ],
   "source": [
    "#Validate data\n",
    "cv = LeaveOneOut()\n",
    "lr = LinearRegression()\n",
    "scores1 = cross_val_score(lr, X2, y2, cv=len(X2), n_jobs=-1, scoring ='neg_mean_absolute_error')\n",
    "scores1"
   ]
  },
  {
   "cell_type": "code",
   "execution_count": 101,
   "id": "952689c4",
   "metadata": {},
   "outputs": [],
   "source": [
    "#Split data into 70:30 ratio\n",
    "X2_train, X2_test, y2_train, y2_test, = train_test_split(X2, y2, test_size=0.3, random_state=42)"
   ]
  },
  {
   "cell_type": "code",
   "execution_count": 102,
   "id": "5de8ae62",
   "metadata": {},
   "outputs": [
    {
     "data": {
      "text/plain": [
       "LinearRegression()"
      ]
     },
     "execution_count": 102,
     "metadata": {},
     "output_type": "execute_result"
    }
   ],
   "source": [
    "#Fit linear regression model to training data set as 'lr'\n",
    "lr = LinearRegression()\n",
    "lr.fit(X_train, y_train)"
   ]
  },
  {
   "cell_type": "code",
   "execution_count": 103,
   "id": "4ea2382b",
   "metadata": {},
   "outputs": [
    {
     "name": "stdout",
     "output_type": "stream",
     "text": [
      "[-2.54241073e-14  3.58257086e-04  5.34457502e-04  7.34001976e-04\n",
      "  1.57749906e-03  3.91170193e-03  6.17751072e-05  6.39399953e-03\n",
      "  1.34592064e-02  2.97543630e-02  2.86965796e-02  4.21372718e-02\n",
      "  2.18889717e-02 -3.73707413e-02 -6.53772020e-02  1.95717565e-02\n",
      "  3.19138397e-01  4.08006591e-01  2.27835558e-01 -3.46254521e-01\n",
      " -3.49472032e-01 -2.87182485e-01 -5.36973439e-01  3.04084236e-01\n",
      "  7.09485241e-01 -2.10686971e+00 -2.93032061e-02  9.75452563e-01\n",
      "  4.49246466e-01  7.70657189e-01 -4.86521013e-02  1.05898368e+00\n",
      "  1.01933350e-01 -1.01530722e+00 -1.02576216e+00  2.66384960e-01\n",
      "  4.54812446e-01 -4.04353116e-01  1.33203240e+00]\n"
     ]
    }
   ],
   "source": [
    "#Get slope of model\n",
    "#coeff1 = pd.DataFrame(regressor.coef_, X2.columns, columns=['Coefficient'])\n",
    "print(lr.coef_)"
   ]
  },
  {
   "cell_type": "code",
   "execution_count": 104,
   "id": "c3a42bce",
   "metadata": {},
   "outputs": [
    {
     "name": "stdout",
     "output_type": "stream",
     "text": [
      "-364543.4069632739\n"
     ]
    }
   ],
   "source": [
    "#Get intercept of model\n",
    "#intercept1 = pd.DataFrame(regressor.intercept_, X2.columns, columns=['Intercept'])\n",
    "print(lr.intercept_)"
   ]
  },
  {
   "cell_type": "code",
   "execution_count": 105,
   "id": "111d59e7",
   "metadata": {},
   "outputs": [
    {
     "name": "stdout",
     "output_type": "stream",
     "text": [
      "[83770721.21695074 66625085.65738054 92682761.18976347 67762506.51689112]\n"
     ]
    }
   ],
   "source": [
    "#Predict model\n",
    "y_pred_test1 = lr.predict(X2_test)\n",
    "print(y_pred_test1)"
   ]
  },
  {
   "cell_type": "code",
   "execution_count": 106,
   "id": "62956870",
   "metadata": {},
   "outputs": [
    {
     "name": "stdout",
     "output_type": "stream",
     "text": [
      "-1.6699984402514665\n"
     ]
    }
   ],
   "source": [
    "#Get accuracy of model\n",
    "score = lr.score(X2_test, y2_test)\n",
    "print(score)"
   ]
  },
  {
   "cell_type": "code",
   "execution_count": 107,
   "id": "5e55c9f4",
   "metadata": {},
   "outputs": [
    {
     "name": "stdout",
     "output_type": "stream",
     "text": [
      "    Country         2019     Predicted\n",
      "0         0   58606400.0  7.246106e+07\n",
      "1         1   27880000.0  2.238900e+08\n",
      "2         2  207047000.0  3.419482e+07\n",
      "3         3   34615000.0  4.973018e+08\n",
      "4         4   66283200.0  8.906713e+07\n",
      "5         5   72043000.0  1.043890e+08\n",
      "6         6  107200000.0  6.311373e+07\n",
      "7         7   80580500.0  3.995610e+07\n",
      "8         8   38915400.0  1.272590e+08\n",
      "9         9   52268100.0  8.377072e+07\n",
      "10       10   55267600.0  6.662509e+07\n",
      "11       11   78924300.0  9.268276e+07\n",
      "12       12  404577000.0  6.776251e+07\n"
     ]
    }
   ],
   "source": [
    "#Create column based on stacked prediction for West Countries\n",
    "y_pred_train1 = lr.predict(X2_train)\n",
    "y_pred_test1 = lr.predict(X2_test)\n",
    "west_mob_cell_subs1['Predicted'] = np.hstack([y_pred_train1, y_pred_test1])\n",
    "print(west_mob_cell_subs1[['Country', '2019', 'Predicted']])"
   ]
  },
  {
   "cell_type": "code",
   "execution_count": 108,
   "id": "6a1ec06f",
   "metadata": {},
   "outputs": [
    {
     "data": {
      "image/png": "[encoded data removed]",
      "text/plain": [
       "<Figure size 1368x1008 with 1 Axes>"
      ]
     },
     "metadata": {},
     "output_type": "display_data"
    }
   ],
   "source": [
    "#Create linear model plot using seaborn lmplot/regplot for western countries data\n",
    "sns.set_style('whitegrid')\n",
    "sns.regplot(x = 'Country', y = '2019', data = west_mob_cell_subs1, \n",
    "           fit_reg=True, \n",
    "                truncate=False, scatter_kws={\"s\": 100})\n",
    "sns.despine(left=False)"
   ]
  },
  {
   "cell_type": "code",
   "execution_count": 109,
   "id": "76f7487f",
   "metadata": {},
   "outputs": [
    {
     "data": {
      "image/png": "[encoded data removed]",
      "text/plain": [
       "<Figure size 1368x1008 with 1 Axes>"
      ]
     },
     "metadata": {},
     "output_type": "display_data"
    }
   ],
   "source": [
    "#Plot regression for first predictions using seaborn\n",
    "#reg_plot = pd.DataFrame({'y_test':y_test, 'Predicted': y_pred_test})\n",
    "sns.set_style('whitegrid')\n",
    "sns.regplot(x='Country', y='Predicted', data=west_mob_cell_subs1, fit_reg=True, \n",
    "                truncate=False, scatter_kws={'s': 100});\n",
    "sns.despine(left=False)"
   ]
  }
 ],
 "metadata": {
  "kernelspec": {
   "display_name": "Python 3",
   "language": "python",
   "name": "python3"
  },
  "language_info": {
   "codemirror_mode": {
    "name": "ipython",
    "version": 3
   },
   "file_extension": ".py",
   "mimetype": "text/x-python",
   "name": "python",
   "nbconvert_exporter": "python",
   "pygments_lexer": "ipython3",
   "version": "3.8.10"
  }
 },
 "nbformat": 4,
 "nbformat_minor": 5
}
